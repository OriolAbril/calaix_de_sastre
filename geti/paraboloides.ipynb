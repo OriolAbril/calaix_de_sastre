{
 "cells": [
  {
   "cell_type": "markdown",
   "id": "f77d5396-ed32-46d1-a388-1ddd4727ee2a",
   "metadata": {},
   "source": [
    "# Integral paraboloides\n",
    "Graficos para el ejercicio 43 del tema de calculo multivariante."
   ]
  },
  {
   "cell_type": "code",
   "execution_count": 1,
   "id": "3f21adc9-1003-46cc-b625-5a84e656c38c",
   "metadata": {},
   "outputs": [
    {
     "name": "stderr",
     "output_type": "stream",
     "text": [
      "Warning: Ignoring XDG_SESSION_TYPE=wayland on Gnome. Use QT_QPA_PLATFORM=wayland to run on Wayland anyway.\n"
     ]
    }
   ],
   "source": [
    "%matplotlib Qt5"
   ]
  },
  {
   "cell_type": "code",
   "execution_count": 2,
   "id": "f813c9b5-bcb4-4cd2-b65b-298b4fa9d1b2",
   "metadata": {},
   "outputs": [],
   "source": [
    "import numpy as np\n",
    "from numpy import ma\n",
    "import matplotlib.pyplot as plt"
   ]
  },
  {
   "cell_type": "code",
   "execution_count": 11,
   "id": "c51d5b87-59b9-4aee-ad5c-7e2ccfafb8a0",
   "metadata": {},
   "outputs": [],
   "source": [
    "fig, ax = plt.subplots(subplot_kw={\"projection\": \"3d\"})\n",
    "grid = np.linspace(-3, 3, 500)\n",
    "\n",
    "x, y = np.meshgrid(grid, grid)\n",
    "r = np.sqrt(x**2 + y**2)\n",
    "mask = r>2\n",
    "x, y = ma.masked_array(x, mask=mask), ma.masked_array(y, mask=mask)\n",
    "\n",
    "z = 16-x**2-2*y**2\n",
    "ax.plot_surface(x, y, z, color=\"red\", alpha=.6)\n",
    "#ax.contour(x, y, z, colors=\"black\") \n",
    "\n",
    "\n",
    "z = 3*x**2+2*y**2\n",
    "ax.plot_surface(x, y, z, color=\"blue\", alpha=.6)\n",
    "#ax.contour(x, y, z, colors=\"black\")\n",
    "\n",
    "ax.set(xlabel=\"x\", ylabel=\"y\", zlabel=\"f(x, y)\");"
   ]
  },
  {
   "cell_type": "code",
   "execution_count": 23,
   "id": "a7bc5c92-1688-4ab5-9388-2893fd5a6742",
   "metadata": {},
   "outputs": [],
   "source": [
    "fig, ax = plt.subplots(subplot_kw={\"projection\": \"3d\"})\n",
    "\n",
    "# graficar casquete en rojo, muy transparente\n",
    "x, y = np.meshgrid(grid, grid)\n",
    "r = np.sqrt(x**2 + y**2)\n",
    "mask = r>2\n",
    "x, y = ma.masked_array(x, mask=mask), ma.masked_array(y, mask=mask)\n",
    "\n",
    "z = 16-x**2-2*y**2\n",
    "ax.plot_surface(x, y, z, color=\"red\", alpha=.1)\n",
    "\n",
    "# Graficar diferencial de theta, que pasa cuando \"fijamos theta\"\n",
    "x, y = np.meshgrid(grid, grid)\n",
    "theta = np.arctan2(y, x)\n",
    "r = np.sqrt(x**2 + y**2)\n",
    "\n",
    "mask = (theta > 0) & (theta <0.05) & (r<2)\n",
    "x, y, theta, r = [ma.masked_array(ary, mask=~mask) for ary in (x, y, theta, r)]\n",
    "\n",
    "z_up = 16-x**2-2*y**2\n",
    "z_low = 12*np.cos(theta)**2 + 8*np.sin(theta)**2\n",
    "\n",
    "\n",
    "ax.plot_surface(x, y, z_up, color=\"black\", alpha=1)\n",
    "ax.plot_surface(x, y, z_low, color=\"black\", alpha=1)\n",
    "\n",
    "# Graficar otro diferencial de theta, que pasa cuando \"fijamos theta\"\n",
    "x, y = np.meshgrid(grid, grid)\n",
    "theta = np.arctan2(y, x)\n",
    "r = np.sqrt(x**2 + y**2)\n",
    "\n",
    "mask = (theta > 0.8) & (theta <0.85) & (r<2)\n",
    "x, y, theta, r = [ma.masked_array(ary, mask=~mask) for ary in (x, y, theta, r)]\n",
    "\n",
    "z_up = 16-x**2-2*y**2\n",
    "z_low = 12*np.cos(theta)**2 + 8*np.sin(theta)**2\n",
    "\n",
    "\n",
    "ax.plot_surface(x, y, z_up, color=\"black\", alpha=1)\n",
    "ax.plot_surface(x, y, z_low, color=\"black\", alpha=1)\n",
    "ax.set(xlabel=\"x\", ylabel=\"y\", zlabel=\"f(x, y)\");"
   ]
  },
  {
   "cell_type": "code",
   "execution_count": null,
   "id": "a8c0d5ba-7d33-4819-aa22-a5d852113851",
   "metadata": {},
   "outputs": [],
   "source": []
  }
 ],
 "metadata": {
  "kernelspec": {
   "display_name": "Python 3 (ipykernel)",
   "language": "python",
   "name": "python3"
  },
  "language_info": {
   "codemirror_mode": {
    "name": "ipython",
    "version": 3
   },
   "file_extension": ".py",
   "mimetype": "text/x-python",
   "name": "python",
   "nbconvert_exporter": "python",
   "pygments_lexer": "ipython3",
   "version": "3.10.8"
  }
 },
 "nbformat": 4,
 "nbformat_minor": 5
}
