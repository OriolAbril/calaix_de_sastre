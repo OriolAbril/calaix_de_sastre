{
 "cells": [
  {
   "cell_type": "code",
   "execution_count": 1,
   "metadata": {},
   "outputs": [],
   "source": [
    "import arviz as az\n",
    "import xarray as xr\n",
    "\n",
    "from generate_data import generate_data\n",
    "from utils import StanModel_cache"
   ]
  },
  {
   "cell_type": "code",
   "execution_count": 2,
   "metadata": {},
   "outputs": [],
   "source": [
    "n = 70\n",
    "Years_indiv, Mean_RT_comp_Indiv, Mean_RT_incomp_Indiv = generate_data(8, n)\n",
    "dims = {\"y_obs_comp\": [\"subject\"], \"y_obs_incomp\": [\"subject\"]}\n",
    "log_lik_dict = {\"y_obs_comp\": \"log_lik_comp\", \"y_obs_incomp\": \"log_lik_comp\"}\n",
    "data = {\n",
    "    \"n\": n,\n",
    "    \"y_obs_comp\": Mean_RT_comp_Indiv,\n",
    "    \"y_obs_incomp\": Mean_RT_incomp_Indiv,\n",
    "    \"age\": Years_indiv,\n",
    "    \"mean_rt_c\": Mean_RT_comp_Indiv.mean(),\n",
    "    \"mean_rt_i\": Mean_RT_incomp_Indiv.mean(),\n",
    "}"
   ]
  },
  {
   "cell_type": "code",
   "execution_count": 3,
   "metadata": {},
   "outputs": [],
   "source": [
    "exp_code = \"\"\"\n",
    "data {\n",
    "    int<lower=0> n;\n",
    "    real y_obs_comp[n];\n",
    "    real y_obs_incomp[n];\n",
    "    int<lower=0> age[n];\n",
    "    real mean_rt_c;\n",
    "    real mean_rt_i;\n",
    "}\n",
    "\n",
    "parameters {\n",
    "    real b;\n",
    "    real<lower=0> sigma;\n",
    "    real<lower=0> a_c;\n",
    "    real<lower=0> a_i;\n",
    "    real g_c;\n",
    "    real g_i;\n",
    "}\n",
    "\n",
    "transformed parameters {\n",
    "    real mu_c[n];\n",
    "    real mu_i[n];\n",
    "    for (j in 1:n) {\n",
    "        mu_c[j] = a_c*exp(-b*age[j]) + g_c;\n",
    "        mu_i[j] = a_i*exp(-b*age[j]) + g_i;\n",
    "    }\n",
    "}\n",
    "\n",
    "model {\n",
    "    a_c ~ cauchy(0, 5);\n",
    "    a_i ~ cauchy(0, 5);\n",
    "    b ~ normal(1, 1);\n",
    "    g_c ~ normal(mean_rt_c, .5);\n",
    "    g_i ~ normal(mean_rt_i, .5);\n",
    "    sigma ~ normal(0, .2);\n",
    "    y_obs_comp ~ normal(mu_c, sigma);\n",
    "    y_obs_incomp ~ normal(mu_i, sigma);\n",
    "}\n",
    "\n",
    "generated quantities {\n",
    "    real log_lik_comp[n];\n",
    "    real log_lik_incomp[n];\n",
    "\n",
    "    for (j in 1:n) {\n",
    "        log_lik_comp[j] = normal_lpdf(y_obs_comp[j] | mu_c[j], sigma);\n",
    "        log_lik_incomp[j] = normal_lpdf(y_obs_incomp[j] | mu_i[j], sigma);\n",
    "    }\n",
    "}\n",
    "\"\"\""
   ]
  },
  {
   "cell_type": "code",
   "execution_count": 4,
   "metadata": {},
   "outputs": [
    {
     "name": "stdout",
     "output_type": "stream",
     "text": [
      "Using cached StanModel\n"
     ]
    },
    {
     "name": "stderr",
     "output_type": "stream",
     "text": [
      "WARNING:pystan:18 of 8000 iterations ended with a divergence (0.225 %).\n",
      "WARNING:pystan:Try running with adapt_delta larger than 0.9 to remove the divergences.\n"
     ]
    }
   ],
   "source": [
    "stan_model = StanModel_cache(model_code=exp_code)\n",
    "fit = stan_model.sampling(data=data, iter=4000, control={\"adapt_delta\" : 0.9})"
   ]
  },
  {
   "cell_type": "code",
   "execution_count": 5,
   "metadata": {},
   "outputs": [],
   "source": [
    "idata_exp = az.from_pystan(fit, dims=dims, log_likelihood=log_lik_dict)"
   ]
  },
  {
   "cell_type": "markdown",
   "metadata": {},
   "source": [
    "The pointwise log likelihood stored is the following (both models have the same variables and shape, only the exponential model is shown)"
   ]
  },
  {
   "cell_type": "code",
   "execution_count": 6,
   "metadata": {},
   "outputs": [
    {
     "data": {
      "text/html": [
       "<pre>&lt;xarray.Dataset&gt;\n",
       "Dimensions:       (chain: 4, draw: 2000, subject: 70)\n",
       "Coordinates:\n",
       "  * chain         (chain) int64 0 1 2 3\n",
       "  * draw          (draw) int64 0 1 2 3 4 5 6 ... 1994 1995 1996 1997 1998 1999\n",
       "  * subject       (subject) int64 0 1 2 3 4 5 6 7 8 ... 62 63 64 65 66 67 68 69\n",
       "Data variables:\n",
       "    y_obs_comp    (chain, draw, subject) float64 -0.9269 -1.255 ... -2.182\n",
       "    y_obs_incomp  (chain, draw, subject) float64 -0.9269 -1.255 ... -2.182\n",
       "Attributes:\n",
       "    created_at:                 2020-03-20T11:50:13.447530\n",
       "    arviz_version:              0.7.0\n",
       "    inference_library:          pystan\n",
       "    inference_library_version:  2.19.1.1</pre>"
      ],
      "text/plain": [
       "<xarray.Dataset>\n",
       "Dimensions:       (chain: 4, draw: 2000, subject: 70)\n",
       "Coordinates:\n",
       "  * chain         (chain) int64 0 1 2 3\n",
       "  * draw          (draw) int64 0 1 2 3 4 5 6 ... 1994 1995 1996 1997 1998 1999\n",
       "  * subject       (subject) int64 0 1 2 3 4 5 6 7 8 ... 62 63 64 65 66 67 68 69\n",
       "Data variables:\n",
       "    y_obs_comp    (chain, draw, subject) float64 -0.9269 -1.255 ... -2.182\n",
       "    y_obs_incomp  (chain, draw, subject) float64 -0.9269 -1.255 ... -2.182\n",
       "Attributes:\n",
       "    created_at:                 2020-03-20T11:50:13.447530\n",
       "    arviz_version:              0.7.0\n",
       "    inference_library:          pystan\n",
       "    inference_library_version:  2.19.1.1"
      ]
     },
     "execution_count": 6,
     "metadata": {},
     "output_type": "execute_result"
    }
   ],
   "source": [
    "idata_exp.log_likelihood"
   ]
  },
  {
   "cell_type": "markdown",
   "metadata": {},
   "source": [
    "IC calculation and model comparison starts here"
   ]
  },
  {
   "cell_type": "code",
   "execution_count": 7,
   "metadata": {},
   "outputs": [
    {
     "name": "stdout",
     "output_type": "stream",
     "text": [
      "Leave one *observation* out cross validation (whole model)\n",
      "Computed from 8000 by 140 log-likelihood matrix\n",
      "\n",
      "         Estimate       SE\n",
      "elpd_loo  -212.85    11.95\n",
      "p_loo        5.72        -\n",
      "\n",
      "\n",
      "Leave one *subject* out cross validation (whole model)\n"
     ]
    },
    {
     "name": "stderr",
     "output_type": "stream",
     "text": [
      "/home/oriol/venvs/arviz-dev/lib/python3.6/site-packages/arviz/stats/stats.py:532: UserWarning: Estimated shape parameter of Pareto distribution is greater than 0.7 for one or more samples. You should consider using a more robust model, this is because importance sampling is less likely to work well if the marginal posterior and LOO posterior are very different. This is more likely to happen with a non-robust model and highly influential observations.\n",
      "  \"Estimated shape parameter of Pareto distribution is greater than 0.7 for \"\n"
     ]
    },
    {
     "name": "stdout",
     "output_type": "stream",
     "text": [
      "Computed from 8000 by 70 log-likelihood matrix\n",
      "\n",
      "         Estimate       SE\n",
      "elpd_loo  -216.40    17.63\n",
      "p_loo       11.74        -\n",
      "\n",
      "There has been a warning during the calculation. Please check the results.\n",
      "\n",
      "\n",
      "Leave one observation out cross validation (y_obs_comp only)\n",
      "Computed from 8000 by 70 log-likelihood matrix\n",
      "\n",
      "         Estimate       SE\n",
      "elpd_loo  -106.42     8.45\n",
      "p_loo        2.86        -\n",
      "\n",
      "\n",
      "Leave one observation out cross validation (y_obs_incomp only)\n",
      "Computed from 8000 by 70 log-likelihood matrix\n",
      "\n",
      "         Estimate       SE\n",
      "elpd_loo  -106.42     8.45\n",
      "p_loo        2.86        -\n"
     ]
    }
   ],
   "source": [
    "log_lik_exp = idata_exp.log_likelihood\n",
    "\n",
    "print(\"Leave one *observation* out cross validation (whole model)\")\n",
    "condition_dim = xr.DataArray([\"compatible\", \"incompatible\"], name=\"condition\")\n",
    "idata_exp.sample_stats[\"log_likelihood\"] = xr.concat((log_lik_exp.y_obs_comp, log_lik_exp.y_obs_incomp), dim=condition_dim)\n",
    "print(az.loo(idata_exp))\n",
    "\n",
    "print(\"\\n\\nLeave one *subject* out cross validation (whole model)\")\n",
    "idata_exp.sample_stats[\"log_likelihood\"] = log_lik_exp.to_array().sum(\"variable\")\n",
    "print(az.loo(idata_exp))\n",
    "\n",
    "print(\"\\n\\nLeave one observation out cross validation (y_obs_comp only)\")\n",
    "idata_exp.sample_stats[\"log_likelihood\"] = log_lik_exp.y_obs_comp\n",
    "print(az.loo(idata_exp))\n",
    "\n",
    "print(\"\\n\\nLeave one observation out cross validation (y_obs_incomp only)\")\n",
    "idata_exp.sample_stats[\"log_likelihood\"] = log_lik_exp.y_obs_incomp\n",
    "print(az.loo(idata_exp))"
   ]
  },
  {
   "cell_type": "code",
   "execution_count": null,
   "metadata": {},
   "outputs": [],
   "source": []
  }
 ],
 "metadata": {
  "kernelspec": {
   "display_name": "Python 3",
   "language": "python",
   "name": "python3"
  },
  "language_info": {
   "codemirror_mode": {
    "name": "ipython",
    "version": 3
   },
   "file_extension": ".py",
   "mimetype": "text/x-python",
   "name": "python",
   "nbconvert_exporter": "python",
   "pygments_lexer": "ipython3",
   "version": "3.6.9"
  }
 },
 "nbformat": 4,
 "nbformat_minor": 2
}
