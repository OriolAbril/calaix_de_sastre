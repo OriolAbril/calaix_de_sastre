{
 "cells": [
  {
   "cell_type": "code",
   "execution_count": 1,
   "metadata": {},
   "outputs": [],
   "source": [
    "import pymc3 as pm\n",
    "import arviz as az\n",
    "import xarray as xr\n",
    "\n",
    "from generate_data import generate_data"
   ]
  },
  {
   "cell_type": "code",
   "execution_count": 2,
   "metadata": {},
   "outputs": [],
   "source": [
    "n = 70\n",
    "Years_indiv, Mean_RT_comp_Indiv, Mean_RT_incomp_Indiv = generate_data(8, n)\n",
    "\n",
    "dims = {\"y_obs_comp\": [\"subject\"], \"y_obs_incomp\": [\"subject\"]}"
   ]
  },
  {
   "cell_type": "code",
   "execution_count": 3,
   "metadata": {},
   "outputs": [
    {
     "name": "stderr",
     "output_type": "stream",
     "text": [
      "Auto-assigning NUTS sampler...\n",
      "Initializing NUTS using jitter+adapt_diag...\n",
      "Multiprocess sampling (4 chains in 4 jobs)\n",
      "NUTS: [σ, γ_i, γ_c, β, α_i, α_c]\n",
      "Sampling 4 chains, 147 divergences: 100%|██████████| 16000/16000 [00:17<00:00, 917.06draws/s] \n",
      "There were 19 divergences after tuning. Increase `target_accept` or reparameterize.\n",
      "There were 82 divergences after tuning. Increase `target_accept` or reparameterize.\n",
      "The acceptance probability does not match the target. It is 0.8098377482913226, but should be close to 0.9. Try to increase the number of tuning steps.\n",
      "There were 23 divergences after tuning. Increase `target_accept` or reparameterize.\n",
      "There were 23 divergences after tuning. Increase `target_accept` or reparameterize.\n",
      "The number of effective samples is smaller than 10% for some parameters.\n"
     ]
    }
   ],
   "source": [
    "with pm.Model() as model_pow:\n",
    "    α_c = pm.HalfCauchy('α_c', 10)\n",
    "    α_i = pm.HalfCauchy('α_i', 10)\n",
    "    β = pm.Normal('β', 1, 2)\n",
    "    γ_c = pm.Normal('γ_c', Mean_RT_comp_Indiv.mean(), .5)\n",
    "    γ_i = pm.Normal('γ_i', Mean_RT_incomp_Indiv.mean(), .5)\n",
    "    σ = pm.HalfNormal('σ', .2)\n",
    "    μ_c = α_c*Years_indiv**-β + γ_c\n",
    "    μ_i = α_i*Years_indiv**-β + γ_i\n",
    "    y_obs_comp = pm.Normal('y_obs_comp', μ_c, σ, observed=Mean_RT_comp_Indiv)\n",
    "    y_obs_incomp = pm.Normal('y_obs_incomp', μ_i, σ, observed=Mean_RT_incomp_Indiv)\n",
    "\n",
    "    trace_pow = pm.sample(2000, chains=4, cores=4, tune=2000, target_accept=.9)\n",
    "    idata_pow = az.from_pymc3(trace_pow, dims=dims)"
   ]
  },
  {
   "cell_type": "code",
   "execution_count": 4,
   "metadata": {},
   "outputs": [
    {
     "name": "stderr",
     "output_type": "stream",
     "text": [
      "Auto-assigning NUTS sampler...\n",
      "Initializing NUTS using jitter+adapt_diag...\n",
      "Multiprocess sampling (4 chains in 4 jobs)\n",
      "NUTS: [σ, γ_i, γ_c, β, α_i, α_c]\n",
      "Sampling 4 chains, 93 divergences: 100%|██████████| 16000/16000 [00:11<00:00, 1346.64draws/s]\n",
      "There were 21 divergences after tuning. Increase `target_accept` or reparameterize.\n",
      "There were 17 divergences after tuning. Increase `target_accept` or reparameterize.\n",
      "There were 17 divergences after tuning. Increase `target_accept` or reparameterize.\n",
      "There were 38 divergences after tuning. Increase `target_accept` or reparameterize.\n"
     ]
    }
   ],
   "source": [
    "with pm.Model() as model_exp:\n",
    "    α_c = pm.HalfCauchy('α_c', 5)\n",
    "    α_i = pm.HalfCauchy('α_i', 5)\n",
    "    β = pm.Normal('β', 1, 1)\n",
    "    γ_c = pm.Normal('γ_c', Mean_RT_comp_Indiv.mean(), .5)\n",
    "    γ_i = pm.Normal('γ_i', Mean_RT_incomp_Indiv.mean(), .5)\n",
    "    σ = pm.HalfNormal('σ', .2)\n",
    "    μ_c = α_c*pm.math.exp(-β*Years_indiv) + γ_c\n",
    "    μ_i = α_i*pm.math.exp(-β*Years_indiv) + γ_i\n",
    "    y_obs_comp = pm.Normal('y_obs_comp', μ_c, σ, observed=Mean_RT_comp_Indiv)\n",
    "    y_obs_incomp = pm.Normal('y_obs_incomp', μ_i, σ, observed=Mean_RT_incomp_Indiv)\n",
    "\n",
    "    trace_exp = pm.sample(2000, chains=4, cores=4, tune=2000, target_accept=.9)\n",
    "    idata_exp = az.from_pymc3(trace_exp, dims=dims)"
   ]
  },
  {
   "cell_type": "markdown",
   "metadata": {},
   "source": [
    "The pointwise log likelihood stored is the following (both models have the same variables and shape, only the exponential model is shown)"
   ]
  },
  {
   "cell_type": "code",
   "execution_count": 5,
   "metadata": {},
   "outputs": [
    {
     "data": {
      "text/html": [
       "<pre>&lt;xarray.Dataset&gt;\n",
       "Dimensions:       (chain: 4, draw: 2000, subject: 70)\n",
       "Coordinates:\n",
       "  * chain         (chain) int64 0 1 2 3\n",
       "  * draw          (draw) int64 0 1 2 3 4 5 6 ... 1994 1995 1996 1997 1998 1999\n",
       "  * subject       (subject) int64 0 1 2 3 4 5 6 7 8 ... 62 63 64 65 66 67 68 69\n",
       "Data variables:\n",
       "    y_obs_comp    (chain, draw, subject) float64 -6.061 -1.658 ... -2.15 -0.9142\n",
       "    y_obs_incomp  (chain, draw, subject) float64 -1.489 -0.9353 ... -2.047\n",
       "Attributes:\n",
       "    created_at:                 2020-03-20T11:50:31.989537\n",
       "    arviz_version:              0.7.0\n",
       "    inference_library:          pymc3\n",
       "    inference_library_version:  3.8</pre>"
      ],
      "text/plain": [
       "<xarray.Dataset>\n",
       "Dimensions:       (chain: 4, draw: 2000, subject: 70)\n",
       "Coordinates:\n",
       "  * chain         (chain) int64 0 1 2 3\n",
       "  * draw          (draw) int64 0 1 2 3 4 5 6 ... 1994 1995 1996 1997 1998 1999\n",
       "  * subject       (subject) int64 0 1 2 3 4 5 6 7 8 ... 62 63 64 65 66 67 68 69\n",
       "Data variables:\n",
       "    y_obs_comp    (chain, draw, subject) float64 -6.061 -1.658 ... -2.15 -0.9142\n",
       "    y_obs_incomp  (chain, draw, subject) float64 -1.489 -0.9353 ... -2.047\n",
       "Attributes:\n",
       "    created_at:                 2020-03-20T11:50:31.989537\n",
       "    arviz_version:              0.7.0\n",
       "    inference_library:          pymc3\n",
       "    inference_library_version:  3.8"
      ]
     },
     "execution_count": 5,
     "metadata": {},
     "output_type": "execute_result"
    }
   ],
   "source": [
    "idata_exp.log_likelihood"
   ]
  },
  {
   "cell_type": "markdown",
   "metadata": {},
   "source": [
    "IC calculation and model comparison starts here"
   ]
  },
  {
   "cell_type": "code",
   "execution_count": 6,
   "metadata": {},
   "outputs": [],
   "source": [
    "log_lik_exp = idata_exp.log_likelihood\n",
    "log_lik_pow = idata_pow.log_likelihood"
   ]
  },
  {
   "cell_type": "code",
   "execution_count": 7,
   "metadata": {},
   "outputs": [
    {
     "name": "stdout",
     "output_type": "stream",
     "text": [
      "Leave one *observation* out cross validation (whole model)\n",
      "\n",
      "Computed from 8000 by 140 log-likelihood matrix\n",
      "\n",
      "         Estimate       SE\n",
      "elpd_loo  -205.55    10.15\n",
      "p_loo        4.34        -\n"
     ]
    },
    {
     "data": {
      "text/html": [
       "<div>\n",
       "<style scoped>\n",
       "    .dataframe tbody tr th:only-of-type {\n",
       "        vertical-align: middle;\n",
       "    }\n",
       "\n",
       "    .dataframe tbody tr th {\n",
       "        vertical-align: top;\n",
       "    }\n",
       "\n",
       "    .dataframe thead th {\n",
       "        text-align: right;\n",
       "    }\n",
       "</style>\n",
       "<table border=\"1\" class=\"dataframe\">\n",
       "  <thead>\n",
       "    <tr style=\"text-align: right;\">\n",
       "      <th></th>\n",
       "      <th>rank</th>\n",
       "      <th>loo</th>\n",
       "      <th>p_loo</th>\n",
       "      <th>d_loo</th>\n",
       "      <th>weight</th>\n",
       "      <th>se</th>\n",
       "      <th>dse</th>\n",
       "      <th>warning</th>\n",
       "      <th>loo_scale</th>\n",
       "    </tr>\n",
       "  </thead>\n",
       "  <tbody>\n",
       "    <tr>\n",
       "      <th>exp</th>\n",
       "      <td>0</td>\n",
       "      <td>-205.548</td>\n",
       "      <td>4.34097</td>\n",
       "      <td>0</td>\n",
       "      <td>0.658133</td>\n",
       "      <td>10.4259</td>\n",
       "      <td>0</td>\n",
       "      <td>False</td>\n",
       "      <td>log</td>\n",
       "    </tr>\n",
       "    <tr>\n",
       "      <th>pow</th>\n",
       "      <td>1</td>\n",
       "      <td>-206.259</td>\n",
       "      <td>4.92463</td>\n",
       "      <td>0.71092</td>\n",
       "      <td>0.341867</td>\n",
       "      <td>10.4654</td>\n",
       "      <td>0.481325</td>\n",
       "      <td>False</td>\n",
       "      <td>log</td>\n",
       "    </tr>\n",
       "  </tbody>\n",
       "</table>\n",
       "</div>"
      ],
      "text/plain": [
       "    rank      loo    p_loo    d_loo    weight       se       dse warning  \\\n",
       "exp    0 -205.548  4.34097        0  0.658133  10.4259         0   False   \n",
       "pow    1 -206.259  4.92463  0.71092  0.341867  10.4654  0.481325   False   \n",
       "\n",
       "    loo_scale  \n",
       "exp       log  \n",
       "pow       log  "
      ]
     },
     "execution_count": 7,
     "metadata": {},
     "output_type": "execute_result"
    }
   ],
   "source": [
    "print(\"Leave one *observation* out cross validation (whole model)\\n\")\n",
    "condition_dim = xr.DataArray([\"compatible\", \"incompatible\"], name=\"condition\")\n",
    "idata_exp.sample_stats[\"log_likelihood\"] = xr.concat((log_lik_exp.y_obs_comp, log_lik_exp.y_obs_incomp), dim=condition_dim)\n",
    "idata_pow.sample_stats[\"log_likelihood\"] = xr.concat((log_lik_pow.y_obs_comp, log_lik_pow.y_obs_incomp), dim=condition_dim)\n",
    "print(az.loo(idata_exp))\n",
    "az.compare({\"exp\": idata_exp, \"pow\": idata_pow})"
   ]
  },
  {
   "cell_type": "code",
   "execution_count": 8,
   "metadata": {},
   "outputs": [
    {
     "name": "stdout",
     "output_type": "stream",
     "text": [
      "Leave one *subject* out cross validation (whole model)\n",
      "\n",
      "Computed from 8000 by 70 log-likelihood matrix\n",
      "\n",
      "         Estimate       SE\n",
      "elpd_loo  -205.57    10.02\n",
      "p_loo        4.36        -\n"
     ]
    },
    {
     "data": {
      "text/html": [
       "<div>\n",
       "<style scoped>\n",
       "    .dataframe tbody tr th:only-of-type {\n",
       "        vertical-align: middle;\n",
       "    }\n",
       "\n",
       "    .dataframe tbody tr th {\n",
       "        vertical-align: top;\n",
       "    }\n",
       "\n",
       "    .dataframe thead th {\n",
       "        text-align: right;\n",
       "    }\n",
       "</style>\n",
       "<table border=\"1\" class=\"dataframe\">\n",
       "  <thead>\n",
       "    <tr style=\"text-align: right;\">\n",
       "      <th></th>\n",
       "      <th>rank</th>\n",
       "      <th>loo</th>\n",
       "      <th>p_loo</th>\n",
       "      <th>d_loo</th>\n",
       "      <th>weight</th>\n",
       "      <th>se</th>\n",
       "      <th>dse</th>\n",
       "      <th>warning</th>\n",
       "      <th>loo_scale</th>\n",
       "    </tr>\n",
       "  </thead>\n",
       "  <tbody>\n",
       "    <tr>\n",
       "      <th>exp</th>\n",
       "      <td>0</td>\n",
       "      <td>-205.565</td>\n",
       "      <td>4.36348</td>\n",
       "      <td>0</td>\n",
       "      <td>0.661858</td>\n",
       "      <td>9.60728</td>\n",
       "      <td>0</td>\n",
       "      <td>False</td>\n",
       "      <td>log</td>\n",
       "    </tr>\n",
       "    <tr>\n",
       "      <th>pow</th>\n",
       "      <td>1</td>\n",
       "      <td>-206.284</td>\n",
       "      <td>4.95907</td>\n",
       "      <td>0.718747</td>\n",
       "      <td>0.338142</td>\n",
       "      <td>9.59469</td>\n",
       "      <td>0.551122</td>\n",
       "      <td>False</td>\n",
       "      <td>log</td>\n",
       "    </tr>\n",
       "  </tbody>\n",
       "</table>\n",
       "</div>"
      ],
      "text/plain": [
       "    rank      loo    p_loo     d_loo    weight       se       dse warning  \\\n",
       "exp    0 -205.565  4.36348         0  0.661858  9.60728         0   False   \n",
       "pow    1 -206.284  4.95907  0.718747  0.338142  9.59469  0.551122   False   \n",
       "\n",
       "    loo_scale  \n",
       "exp       log  \n",
       "pow       log  "
      ]
     },
     "execution_count": 8,
     "metadata": {},
     "output_type": "execute_result"
    }
   ],
   "source": [
    "print(\"Leave one *subject* out cross validation (whole model)\\n\")\n",
    "idata_exp.sample_stats[\"log_likelihood\"] = log_lik_exp.to_array().sum(\"variable\")\n",
    "idata_pow.sample_stats[\"log_likelihood\"] = log_lik_pow.to_array().sum(\"variable\")\n",
    "print(az.loo(idata_exp))\n",
    "az.compare({\"exp\": idata_exp, \"pow\": idata_pow})"
   ]
  },
  {
   "cell_type": "code",
   "execution_count": 9,
   "metadata": {},
   "outputs": [
    {
     "name": "stdout",
     "output_type": "stream",
     "text": [
      "Leave one observation out cross validation (y_obs_comp only)\n",
      "\n",
      "Computed from 8000 by 70 log-likelihood matrix\n",
      "\n",
      "         Estimate       SE\n",
      "elpd_loo  -100.55     7.86\n",
      "p_loo        2.15        -\n"
     ]
    },
    {
     "data": {
      "text/html": [
       "<div>\n",
       "<style scoped>\n",
       "    .dataframe tbody tr th:only-of-type {\n",
       "        vertical-align: middle;\n",
       "    }\n",
       "\n",
       "    .dataframe tbody tr th {\n",
       "        vertical-align: top;\n",
       "    }\n",
       "\n",
       "    .dataframe thead th {\n",
       "        text-align: right;\n",
       "    }\n",
       "</style>\n",
       "<table border=\"1\" class=\"dataframe\">\n",
       "  <thead>\n",
       "    <tr style=\"text-align: right;\">\n",
       "      <th></th>\n",
       "      <th>rank</th>\n",
       "      <th>loo</th>\n",
       "      <th>p_loo</th>\n",
       "      <th>d_loo</th>\n",
       "      <th>weight</th>\n",
       "      <th>se</th>\n",
       "      <th>dse</th>\n",
       "      <th>warning</th>\n",
       "      <th>loo_scale</th>\n",
       "    </tr>\n",
       "  </thead>\n",
       "  <tbody>\n",
       "    <tr>\n",
       "      <th>exp</th>\n",
       "      <td>0</td>\n",
       "      <td>-100.554</td>\n",
       "      <td>2.14766</td>\n",
       "      <td>0</td>\n",
       "      <td>0.565013</td>\n",
       "      <td>7.77839</td>\n",
       "      <td>0</td>\n",
       "      <td>False</td>\n",
       "      <td>log</td>\n",
       "    </tr>\n",
       "    <tr>\n",
       "      <th>pow</th>\n",
       "      <td>1</td>\n",
       "      <td>-100.834</td>\n",
       "      <td>2.45793</td>\n",
       "      <td>0.279518</td>\n",
       "      <td>0.434987</td>\n",
       "      <td>7.81519</td>\n",
       "      <td>0.390681</td>\n",
       "      <td>False</td>\n",
       "      <td>log</td>\n",
       "    </tr>\n",
       "  </tbody>\n",
       "</table>\n",
       "</div>"
      ],
      "text/plain": [
       "    rank      loo    p_loo     d_loo    weight       se       dse warning  \\\n",
       "exp    0 -100.554  2.14766         0  0.565013  7.77839         0   False   \n",
       "pow    1 -100.834  2.45793  0.279518  0.434987  7.81519  0.390681   False   \n",
       "\n",
       "    loo_scale  \n",
       "exp       log  \n",
       "pow       log  "
      ]
     },
     "execution_count": 9,
     "metadata": {},
     "output_type": "execute_result"
    }
   ],
   "source": [
    "print(\"Leave one observation out cross validation (y_obs_comp only)\\n\")\n",
    "idata_exp.sample_stats[\"log_likelihood\"] = log_lik_exp.y_obs_comp\n",
    "idata_pow.sample_stats[\"log_likelihood\"] = log_lik_pow.y_obs_comp\n",
    "print(az.loo(idata_exp))\n",
    "az.compare({\"exp\": idata_exp, \"pow\": idata_pow})"
   ]
  },
  {
   "cell_type": "code",
   "execution_count": 10,
   "metadata": {},
   "outputs": [
    {
     "name": "stdout",
     "output_type": "stream",
     "text": [
      "Leave one observation out cross validation (y_obs_incomp only)\n",
      "\n",
      "Computed from 8000 by 70 log-likelihood matrix\n",
      "\n",
      "         Estimate       SE\n",
      "elpd_loo  -104.99     6.41\n",
      "p_loo        2.19        - \n",
      "\n"
     ]
    },
    {
     "data": {
      "text/html": [
       "<div>\n",
       "<style scoped>\n",
       "    .dataframe tbody tr th:only-of-type {\n",
       "        vertical-align: middle;\n",
       "    }\n",
       "\n",
       "    .dataframe tbody tr th {\n",
       "        vertical-align: top;\n",
       "    }\n",
       "\n",
       "    .dataframe thead th {\n",
       "        text-align: right;\n",
       "    }\n",
       "</style>\n",
       "<table border=\"1\" class=\"dataframe\">\n",
       "  <thead>\n",
       "    <tr style=\"text-align: right;\">\n",
       "      <th></th>\n",
       "      <th>rank</th>\n",
       "      <th>loo</th>\n",
       "      <th>p_loo</th>\n",
       "      <th>d_loo</th>\n",
       "      <th>weight</th>\n",
       "      <th>se</th>\n",
       "      <th>dse</th>\n",
       "      <th>warning</th>\n",
       "      <th>loo_scale</th>\n",
       "    </tr>\n",
       "  </thead>\n",
       "  <tbody>\n",
       "    <tr>\n",
       "      <th>exp</th>\n",
       "      <td>0</td>\n",
       "      <td>-104.994</td>\n",
       "      <td>2.19331</td>\n",
       "      <td>0</td>\n",
       "      <td>0.601871</td>\n",
       "      <td>6.42684</td>\n",
       "      <td>0</td>\n",
       "      <td>False</td>\n",
       "      <td>log</td>\n",
       "    </tr>\n",
       "    <tr>\n",
       "      <th>pow</th>\n",
       "      <td>1</td>\n",
       "      <td>-105.425</td>\n",
       "      <td>2.46671</td>\n",
       "      <td>0.431401</td>\n",
       "      <td>0.398129</td>\n",
       "      <td>6.42075</td>\n",
       "      <td>0.28085</td>\n",
       "      <td>False</td>\n",
       "      <td>log</td>\n",
       "    </tr>\n",
       "  </tbody>\n",
       "</table>\n",
       "</div>"
      ],
      "text/plain": [
       "    rank      loo    p_loo     d_loo    weight       se      dse warning  \\\n",
       "exp    0 -104.994  2.19331         0  0.601871  6.42684        0   False   \n",
       "pow    1 -105.425  2.46671  0.431401  0.398129  6.42075  0.28085   False   \n",
       "\n",
       "    loo_scale  \n",
       "exp       log  \n",
       "pow       log  "
      ]
     },
     "execution_count": 10,
     "metadata": {},
     "output_type": "execute_result"
    }
   ],
   "source": [
    "print(\"Leave one observation out cross validation (y_obs_incomp only)\\n\")\n",
    "idata_exp.sample_stats[\"log_likelihood\"] = log_lik_exp.y_obs_incomp\n",
    "idata_pow.sample_stats[\"log_likelihood\"] = log_lik_pow.y_obs_incomp\n",
    "print(az.loo(idata_exp), \"\\n\")\n",
    "az.compare({\"exp\": idata_exp, \"pow\": idata_pow})"
   ]
  },
  {
   "cell_type": "code",
   "execution_count": null,
   "metadata": {},
   "outputs": [],
   "source": []
  }
 ],
 "metadata": {
  "kernelspec": {
   "display_name": "Python 3",
   "language": "python",
   "name": "python3"
  },
  "language_info": {
   "codemirror_mode": {
    "name": "ipython",
    "version": 3
   },
   "file_extension": ".py",
   "mimetype": "text/x-python",
   "name": "python",
   "nbconvert_exporter": "python",
   "pygments_lexer": "ipython3",
   "version": "3.6.9"
  }
 },
 "nbformat": 4,
 "nbformat_minor": 2
}
