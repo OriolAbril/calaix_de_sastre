{
 "cells": [
  {
   "cell_type": "code",
   "execution_count": 1,
   "id": "c76c5b91-2b32-486d-9be8-a5a36dd74979",
   "metadata": {},
   "outputs": [
    {
     "name": "stderr",
     "output_type": "stream",
     "text": [
      "Warning: Ignoring XDG_SESSION_TYPE=wayland on Gnome. Use QT_QPA_PLATFORM=wayland to run on Wayland anyway.\n"
     ]
    }
   ],
   "source": [
    "%matplotlib qt"
   ]
  },
  {
   "cell_type": "code",
   "execution_count": 2,
   "id": "7019c717-fe34-4103-bd9e-793c02cb0960",
   "metadata": {},
   "outputs": [],
   "source": [
    "import numpy as np\n",
    "import matplotlib.pyplot as plt\n",
    "from matplotlib.animation import FuncAnimation\n",
    "\n",
    "from scipy.stats import skewnorm, norm\n",
    "import arviz as az"
   ]
  },
  {
   "cell_type": "code",
   "execution_count": 3,
   "id": "906e70de-8d34-4152-9ae1-5949844b1a80",
   "metadata": {},
   "outputs": [],
   "source": [
    "rng = np.random.default_rng(10)\n",
    "x = skewnorm(3, loc=5, scale=2).rvs(size=50, random_state=rng)\n",
    "y = - np.ones_like(x)"
   ]
  },
  {
   "cell_type": "markdown",
   "id": "9c332194-bf6e-42e6-b27c-df94437e31a1",
   "metadata": {},
   "source": [
    "## Computing kde animation"
   ]
  },
  {
   "cell_type": "code",
   "execution_count": 4,
   "id": "99ac5912-cdc5-4afd-8024-fe3be968c70e",
   "metadata": {},
   "outputs": [],
   "source": [
    "import numpy as np\n",
    "import matplotlib.pyplot as plt\n",
    "from matplotlib.animation import FuncAnimation\n",
    "from functools import partial\n",
    "\n",
    "fig, ax = plt.subplots()\n",
    "grid, kde, bw = az.stats.density_utils.kde(x, bw_return=True)\n",
    "kernels = [ax.plot([], [], \"-\", color=\"lightgray\")[0] for _ in x]\n",
    "rugs = [ax.plot([], [], \"|k\", markersize=10)[0] for _ in x]\n",
    "kde_artist, = ax.plot([], [], \"b-\", alpha=0.5, linewidth=1)\n",
    "kde_boundary, = ax.plot([], [], \"b-\", linewidth=2)\n",
    "\n",
    "ax.legend(\n",
    "    handles=[kde_boundary, kde_artist, kernels[0], rugs[0]],\n",
    "    labels=[\"KDE\", \"KDE (no boundary\\ncorrection)\", \"Kernel\", \"Data\"]\n",
    ")\n",
    "\n",
    "kde_cum_grid = np.linspace(grid.min() - 1, grid.max() + 1, 500)\n",
    "\n",
    "def init():\n",
    "    ax.set_title('Kernel Density Estimate (KDE)')\n",
    "    ax.spines.left.set_color('none')\n",
    "    ax.spines.right.set_color('none')\n",
    "    ax.spines.bottom.set_position('zero')\n",
    "    ax.spines.top.set_color('none')\n",
    "    ax.xaxis.set_ticks_position('bottom')\n",
    "    ax.tick_params(left=False, labelleft=False)\n",
    "    ax.set_ylim(-0.1, 0.4)\n",
    "    ax.set_xlim(kde_cum_grid.min(), kde_cum_grid.max())\n",
    "    for k in kernels:\n",
    "        k.set_data([], [])\n",
    "    kde_artist.set_data([], [])\n",
    "    kde_artist.set(alpha=1, linewidth=2)\n",
    "    kde_boundary.set_data([], [])\n",
    "    for r in rugs:\n",
    "        r.set_data([], [])\n",
    "    return tuple([kde_artist, kde_boundary, *kernels, *rugs])\n",
    "\n",
    "def update(frame, samples):\n",
    "    step, idx = frame\n",
    "    if step == \"rug\":\n",
    "        for rug, sample in zip(rugs, samples):\n",
    "            rug.set_data([sample], [-0.05])\n",
    "            rug.set_color(\"black\")\n",
    "    elif step == \"kde\":\n",
    "        rugs[idx].set(color=\"red\", markersize=30)\n",
    "        if idx > 0:\n",
    "            rugs[idx-1].set(color=\"lightgray\", markersize=10)\n",
    "            kernels[idx-1].set_color(\"lightgray\")\n",
    "        kernel = norm.pdf(kde_cum_grid, loc=samples[idx], scale=bw) / len(samples)\n",
    "        _, kde_cum = kde_artist.get_data()\n",
    "        if not isinstance(kde_cum, np.ndarray):\n",
    "            kde_cum = np.zeros_like(kde_cum_grid)\n",
    "        kde_artist.set_data(kde_cum_grid, kde_cum+kernel)\n",
    "        kernels[idx].set_data(kde_cum_grid, kernel)\n",
    "        kernels[idx].set(color=\"red\")\n",
    "    elif step == \"cleanup\":\n",
    "        rugs[-1].set(color=\"lightgray\", markersize=10)\n",
    "        kernels[-1].set_color(\"lightgray\")\n",
    "    elif step == \"boundary\":\n",
    "        if idx == \"show_bounds\":\n",
    "            kde_artist.set(alpha=0.5, linewidth=1)\n",
    "            _, kde_cum = kde_artist.get_data()\n",
    "            mask = (kde_cum_grid > samples.min()) & (kde_cum_grid < samples.max())\n",
    "            kde_boundary.set_data(kde_cum_grid[mask], kde_cum[mask])\n",
    "            rugs[samples.argmin()].set(color=\"red\", markersize=30)\n",
    "            rugs[samples.argmax()].set(color=\"red\", markersize=30)\n",
    "        if idx == \"correct\":\n",
    "            kde_boundary.set_data(grid, kde)\n",
    "            rugs[samples.argmin()].set(color=\"lightgray\", markersize=10)\n",
    "            rugs[samples.argmax()].set(color=\"lightgray\", markersize=10)\n",
    "    return tuple([kde_artist, kde_boundary, *kernels, *rugs])\n",
    "\n",
    "frames = [\n",
    "    *[(\"wait\", None)]*2,\n",
    "    (\"rug\", None),\n",
    "    *[(\"wait\", None)]*4,\n",
    "    *[(\"kde\", i) for i in range(len(x))],\n",
    "    (\"cleanup\", None),\n",
    "    *[(\"wait\", None)]*2,\n",
    "    (\"boundary\", \"show_bounds\"),\n",
    "    *[(\"wait\", None)]*3,\n",
    "    (\"boundary\", \"correct\"),\n",
    "]\n",
    "\n",
    "ani = FuncAnimation(\n",
    "    fig, partial(update, samples=x),\n",
    "    frames=frames,\n",
    "    init_func=init,\n",
    "    blit=True,\n",
    "    interval=250,\n",
    "    repeat_delay=3000,\n",
    ")\n",
    "\n",
    "ani.save(\"kde.mp4\", dpi=300)\n",
    "\n",
    "plt.show()"
   ]
  },
  {
   "cell_type": "markdown",
   "id": "6499deed-16cf-4fdb-8f3d-26842c667423",
   "metadata": {},
   "source": [
    "##"
   ]
  },
  {
   "cell_type": "code",
   "execution_count": null,
   "id": "1e4cc5f4-3b7f-4295-ad88-c29ad0d6cfa6",
   "metadata": {},
   "outputs": [],
   "source": []
  }
 ],
 "metadata": {
  "kernelspec": {
   "display_name": "Python 3 (ipykernel)",
   "language": "python",
   "name": "python3"
  },
  "language_info": {
   "codemirror_mode": {
    "name": "ipython",
    "version": 3
   },
   "file_extension": ".py",
   "mimetype": "text/x-python",
   "name": "python",
   "nbconvert_exporter": "python",
   "pygments_lexer": "ipython3",
   "version": "3.10.11"
  }
 },
 "nbformat": 4,
 "nbformat_minor": 5
}
