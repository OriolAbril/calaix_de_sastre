{
 "cells": [
  {
   "cell_type": "code",
   "execution_count": 1,
   "id": "c76c5b91-2b32-486d-9be8-a5a36dd74979",
   "metadata": {},
   "outputs": [
    {
     "name": "stderr",
     "output_type": "stream",
     "text": [
      "Warning: Ignoring XDG_SESSION_TYPE=wayland on Gnome. Use QT_QPA_PLATFORM=wayland to run on Wayland anyway.\n"
     ]
    }
   ],
   "source": [
    "%matplotlib qt"
   ]
  },
  {
   "cell_type": "code",
   "execution_count": 2,
   "id": "7019c717-fe34-4103-bd9e-793c02cb0960",
   "metadata": {},
   "outputs": [],
   "source": [
    "import numpy as np\n",
    "import matplotlib.pyplot as plt\n",
    "from matplotlib.patches import Circle\n",
    "from matplotlib.animation import FuncAnimation\n",
    "\n",
    "from scipy.stats import skewnorm, norm\n",
    "import arviz as az"
   ]
  },
  {
   "cell_type": "code",
   "execution_count": 3,
   "id": "9b4dd7b5-d351-40f7-b0b0-71d7bdba550d",
   "metadata": {},
   "outputs": [],
   "source": [
    "from matplotlib.legend_handler import HandlerPatch\n",
    "\n",
    "\n",
    "class HandlerCircle(HandlerPatch):\n",
    "    def create_artists(self, legend, orig_handle,\n",
    "                       xdescent, ydescent, width, height, fontsize, trans):\n",
    "        center = 0.5 * width - 0.5 * xdescent, 0.5 * height - 0.5 * ydescent\n",
    "        radius = min(width + xdescent, height + ydescent)\n",
    "        p = Circle(xy=center, radius=radius)\n",
    "        self.update_prop(p, orig_handle, legend)\n",
    "        p.set_transform(trans)\n",
    "        return [p]"
   ]
  },
  {
   "cell_type": "code",
   "execution_count": 4,
   "id": "906e70de-8d34-4152-9ae1-5949844b1a80",
   "metadata": {},
   "outputs": [],
   "source": [
    "rng = np.random.default_rng(10)\n",
    "x = skewnorm(3, loc=5, scale=2).rvs(size=50, random_state=rng)\n",
    "y = - np.ones_like(x)"
   ]
  },
  {
   "cell_type": "markdown",
   "id": "9c332194-bf6e-42e6-b27c-df94437e31a1",
   "metadata": {},
   "source": [
    "## Computing dotplot animation"
   ]
  },
  {
   "cell_type": "code",
   "execution_count": 5,
   "id": "99ac5912-cdc5-4afd-8024-fe3be968c70e",
   "metadata": {},
   "outputs": [],
   "source": [
    "import numpy as np\n",
    "import matplotlib.pyplot as plt\n",
    "from matplotlib.animation import FuncAnimation\n",
    "from functools import partial\n",
    "\n",
    "ndots = 20\n",
    "qlist = np.linspace(1 / (2 * ndots), 1 - 1 / (2 * ndots), ndots)\n",
    "values = np.quantile(x, qlist)\n",
    "\n",
    "binwidth = np.sqrt((values[-1] - values[0] + 1) ** 2 / (2 * ndots * np.pi))\n",
    "radius = binwidth / 2\n",
    "\n",
    "stack_locs, stack_count = az.plots.dotplot.wilkinson_algorithm(values, binwidth)\n",
    "c_x, c_y = az.plots.dotplot.layout_stacks(stack_locs, stack_count, binwidth, 1, False)\n",
    "\n",
    "fig, ax = plt.subplots()\n",
    "rugs = [ax.plot([], [], \"|k\", markersize=10)[0] for _ in x]\n",
    "quantiles = [ax.plot([], [], \"|b\", markersize=10)[0] for _ in values]\n",
    "dots = [Circle(xy, radius, color=\"blue\") for xy in zip(c_x, c_y)]\n",
    "window, = ax.plot([], [], \"r-\", linewidth=2)\n",
    "for c in dots:\n",
    "    ax.add_patch(c)\n",
    "\n",
    "ax.legend(\n",
    "    handles=[dots[0], window, quantiles[0], rugs[0]],\n",
    "    labels=[\"Gràfic de punts\", \"Amplada de classe\", \"Quantils\", \"Dades\"],\n",
    "    handler_map={Circle: HandlerCircle()},\n",
    ")\n",
    "\n",
    "def init():\n",
    "    ax.set_title('Gràfic de punts per quantils')\n",
    "    ax.spines.left.set_color('none')\n",
    "    ax.spines.right.set_color('none')\n",
    "    ax.spines.bottom.set_position('zero')\n",
    "    ax.spines.top.set_color('none')\n",
    "    ax.xaxis.set_ticks_position('bottom')\n",
    "    ax.tick_params(left=False, labelleft=False)\n",
    "    ax.set_ylim(-0.45, 3)\n",
    "    ax.set_xlim(x.min()-0.1, x.max()+0.1)\n",
    "    ax.set_aspect(\"equal\")\n",
    "    for r in rugs:\n",
    "        r.set_data([], [])\n",
    "    for q in quantiles:\n",
    "        q.set_data([], [])\n",
    "    for c in dots:\n",
    "        c.set(color=\"none\")\n",
    "    window.set_data([], [])\n",
    "    return tuple([window, *rugs, *quantiles, *dots])\n",
    "\n",
    "def update(frame, samples, qs):\n",
    "    step, idx = frame\n",
    "    if step == \"rug\":\n",
    "        for rug, sample in zip(rugs, samples):\n",
    "            rug.set_data([sample], [-0.4])\n",
    "            rug.set_color(\"black\")\n",
    "    elif step == \"quantiles\":\n",
    "        for q, val in zip(quantiles, values):\n",
    "            q.set_data([val], [-0.2])\n",
    "            q.set_color(\"blue\")\n",
    "    elif step == \"dot\":\n",
    "        center_x = c_x[idx]\n",
    "        indexes, = np.nonzero((qs >= (center_x - radius)) & (qs < (center_x + radius)))\n",
    "        for i in indexes:\n",
    "            quantiles[i].set(color=\"red\", markersize=30)\n",
    "        window.set_data([qs[indexes[0]], qs[indexes[0]] + binwidth], [0, 0])\n",
    "        dots[idx].set_color(\"blue\")\n",
    "        if idx > 0:\n",
    "            oldcenter = c_x[idx-1]\n",
    "            if not np.isclose(oldcenter, center_x):\n",
    "                indexes, = np.nonzero((qs >= (oldcenter - radius)) & (qs < (oldcenter + radius)))\n",
    "                for i in indexes:\n",
    "                    quantiles[i].set(color=\"lightgray\", markersize=10)\n",
    "    elif step == \"cleanup\":\n",
    "        center_x = c_x[-1]\n",
    "        indexes, = np.nonzero((qs >= (center_x - radius)) & (qs < (center_x + radius)))\n",
    "        for i in indexes:\n",
    "            quantiles[i].set(color=\"lightgray\", markersize=10)\n",
    "        window.set_data([], [])\n",
    "    return tuple([window, *rugs, *quantiles, *dots])\n",
    "\n",
    "frames = [\n",
    "    *[(\"wait\", None)]*2,\n",
    "    (\"rug\", None),\n",
    "    *[(\"wait\", None)]*2,\n",
    "    (\"quantiles\", None),\n",
    "    *[(\"wait\", None)]*2,\n",
    "    *[(\"dot\", i) for i in range(ndots)],\n",
    "    (\"cleanup\", None),\n",
    "    *[(\"wait\", None)]*6,\n",
    "]\n",
    "\n",
    "sorted_x = np.sort(x)\n",
    "ani = FuncAnimation(\n",
    "    fig, partial(update, samples=x, qs=values),\n",
    "    frames=frames,\n",
    "    init_func=init,\n",
    "    blit=True,\n",
    "    interval=300,\n",
    ")\n",
    "\n",
    "#ani.save(\"dotplot.ca.mp4\", dpi=300)\n",
    "\n",
    "with open(\"dotplot.ca.html\", mode=\"w\", encoding=\"utf-8\") as f:\n",
    "    f.write(ani.to_jshtml())\n",
    "\n",
    "plt.show()"
   ]
  },
  {
   "cell_type": "markdown",
   "id": "6499deed-16cf-4fdb-8f3d-26842c667423",
   "metadata": {},
   "source": [
    "##"
   ]
  },
  {
   "cell_type": "code",
   "execution_count": null,
   "id": "9c4f028d-3968-4089-a89d-7aaa51efe059",
   "metadata": {},
   "outputs": [],
   "source": []
  }
 ],
 "metadata": {
  "kernelspec": {
   "display_name": "Python 3 (ipykernel)",
   "language": "python",
   "name": "python3"
  },
  "language_info": {
   "codemirror_mode": {
    "name": "ipython",
    "version": 3
   },
   "file_extension": ".py",
   "mimetype": "text/x-python",
   "name": "python",
   "nbconvert_exporter": "python",
   "pygments_lexer": "ipython3",
   "version": "3.10.11"
  }
 },
 "nbformat": 4,
 "nbformat_minor": 5
}
