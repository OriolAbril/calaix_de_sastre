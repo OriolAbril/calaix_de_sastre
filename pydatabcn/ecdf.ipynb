{
 "cells": [
  {
   "cell_type": "code",
   "execution_count": 1,
   "id": "c76c5b91-2b32-486d-9be8-a5a36dd74979",
   "metadata": {},
   "outputs": [
    {
     "name": "stderr",
     "output_type": "stream",
     "text": [
      "Warning: Ignoring XDG_SESSION_TYPE=wayland on Gnome. Use QT_QPA_PLATFORM=wayland to run on Wayland anyway.\n"
     ]
    }
   ],
   "source": [
    "%matplotlib qt"
   ]
  },
  {
   "cell_type": "code",
   "execution_count": 2,
   "id": "7019c717-fe34-4103-bd9e-793c02cb0960",
   "metadata": {},
   "outputs": [],
   "source": [
    "import numpy as np\n",
    "import matplotlib.pyplot as plt\n",
    "from matplotlib.animation import FuncAnimation\n",
    "\n",
    "from scipy.stats import skewnorm, norm\n",
    "import arviz as az"
   ]
  },
  {
   "cell_type": "code",
   "execution_count": 3,
   "id": "906e70de-8d34-4152-9ae1-5949844b1a80",
   "metadata": {},
   "outputs": [],
   "source": [
    "rng = np.random.default_rng(10)\n",
    "x = skewnorm(3, loc=5, scale=2).rvs(size=50, random_state=rng)\n",
    "y = - np.ones_like(x)"
   ]
  },
  {
   "cell_type": "markdown",
   "id": "9c332194-bf6e-42e6-b27c-df94437e31a1",
   "metadata": {},
   "source": [
    "## Computing ecdf animation"
   ]
  },
  {
   "cell_type": "code",
   "execution_count": 4,
   "id": "99ac5912-cdc5-4afd-8024-fe3be968c70e",
   "metadata": {},
   "outputs": [],
   "source": [
    "import numpy as np\n",
    "import matplotlib.pyplot as plt\n",
    "from matplotlib.animation import FuncAnimation\n",
    "from functools import partial\n",
    "\n",
    "fig, ax = plt.subplots()\n",
    "rugs = [ax.plot([], [], \"|k\", markersize=10)[0] for _ in x]\n",
    "ecdf, = ax.plot([], [], \"b-\", linewidth=2, drawstyle=\"steps-post\")\n",
    "\n",
    "ax.legend(\n",
    "    handles=[ecdf, rugs[0]],\n",
    "    labels=[\"ECDF\", \"Dades\"],\n",
    "    loc=\"upper left\",\n",
    ")\n",
    "\n",
    "def init():\n",
    "    ax.set_title('Funció de distribució empírica (ECDF)')\n",
    "    #ax.spines.left.set_color('none')\n",
    "    ax.spines.right.set_color('none')\n",
    "    ax.spines.bottom.set_position('zero')\n",
    "    ax.spines.top.set_color('none')\n",
    "    ax.xaxis.set_ticks_position('bottom')\n",
    "    #ax.tick_params(left=False, labelleft=False)\n",
    "    ax.set_ylim(-0.1, 1)\n",
    "    ax.set_xlim(x.min()-0.1, x.max()+0.1)\n",
    "    ecdf.set_data([], [])\n",
    "    for r in rugs:\n",
    "        r.set_data([], [])\n",
    "    return tuple([ecdf, *rugs])\n",
    "\n",
    "def update(frame, samples, sorted_samples):\n",
    "    step, idx = frame\n",
    "    if step == \"rug\":\n",
    "        for rug, sample in zip(rugs, samples):\n",
    "            rug.set_data([sample], [-0.05])\n",
    "            rug.set_color(\"black\")\n",
    "    elif step == \"sort\":\n",
    "        for rug, sample in zip(rugs, sorted_samples[1:]):\n",
    "            rug.set_data([sample], [-0.05])\n",
    "    elif step == \"ecdf\":\n",
    "        rugs[idx].set(color=\"red\", markersize=30)\n",
    "        if idx > 0:\n",
    "            rugs[idx-1].set(color=\"lightgray\", markersize=10)\n",
    "        ecdf.set_data(sorted_samples[:idx+2], np.linspace(0,  (idx+1) / len(samples), idx+2))\n",
    "    elif step == \"cleanup\":\n",
    "        rugs[-1].set(color=\"lightgray\", markersize=10)\n",
    "    return tuple([ecdf, *rugs])\n",
    "\n",
    "frames = [\n",
    "    *[(\"wait\", None)]*2,\n",
    "    (\"rug\", None),\n",
    "    *[(\"wait\", None)]*2,\n",
    "    (\"sort\", None),\n",
    "    *[(\"wait\", None)]*2,\n",
    "    *[(\"ecdf\", i) for i in range(len(x))],\n",
    "    (\"cleanup\", None),\n",
    "    *[(\"wait\", None)]*6,\n",
    "]\n",
    "\n",
    "sorted_x = np.sort(x)\n",
    "ani = FuncAnimation(\n",
    "    fig, partial(update, samples=x, sorted_samples=np.hstack([sorted_x[0], sorted_x])),\n",
    "    frames=frames,\n",
    "    init_func=init,\n",
    "    blit=True,\n",
    "    interval=300,\n",
    ")\n",
    "\n",
    "#ani.save(\"ecdf.ca.mp4\", dpi=300)\n",
    "\n",
    "with open(\"ecdf.ca.html\", mode=\"w\", encoding=\"utf-8\") as f:\n",
    "    f.write(ani.to_jshtml())\n",
    "\n",
    "plt.show()"
   ]
  },
  {
   "cell_type": "markdown",
   "id": "6499deed-16cf-4fdb-8f3d-26842c667423",
   "metadata": {},
   "source": [
    "##"
   ]
  },
  {
   "cell_type": "code",
   "execution_count": null,
   "id": "9c4f028d-3968-4089-a89d-7aaa51efe059",
   "metadata": {},
   "outputs": [],
   "source": []
  }
 ],
 "metadata": {
  "kernelspec": {
   "display_name": "Python 3 (ipykernel)",
   "language": "python",
   "name": "python3"
  },
  "language_info": {
   "codemirror_mode": {
    "name": "ipython",
    "version": 3
   },
   "file_extension": ".py",
   "mimetype": "text/x-python",
   "name": "python",
   "nbconvert_exporter": "python",
   "pygments_lexer": "ipython3",
   "version": "3.10.11"
  }
 },
 "nbformat": 4,
 "nbformat_minor": 5
}
