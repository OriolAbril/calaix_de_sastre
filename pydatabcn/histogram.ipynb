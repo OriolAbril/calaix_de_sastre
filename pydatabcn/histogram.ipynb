{
 "cells": [
  {
   "cell_type": "code",
   "execution_count": 1,
   "id": "c76c5b91-2b32-486d-9be8-a5a36dd74979",
   "metadata": {},
   "outputs": [
    {
     "name": "stderr",
     "output_type": "stream",
     "text": [
      "Warning: Ignoring XDG_SESSION_TYPE=wayland on Gnome. Use QT_QPA_PLATFORM=wayland to run on Wayland anyway.\n"
     ]
    }
   ],
   "source": [
    "%matplotlib qt"
   ]
  },
  {
   "cell_type": "code",
   "execution_count": 2,
   "id": "7019c717-fe34-4103-bd9e-793c02cb0960",
   "metadata": {},
   "outputs": [],
   "source": [
    "import numpy as np\n",
    "import matplotlib.pyplot as plt\n",
    "from matplotlib.animation import FuncAnimation\n",
    "\n",
    "from scipy.stats import skewnorm\n",
    "import arviz as az"
   ]
  },
  {
   "cell_type": "code",
   "execution_count": 3,
   "id": "906e70de-8d34-4152-9ae1-5949844b1a80",
   "metadata": {},
   "outputs": [],
   "source": [
    "rng = np.random.default_rng(10)\n",
    "x = skewnorm(3, loc=5, scale=2).rvs(size=50, random_state=rng)\n",
    "y = - np.ones_like(x)"
   ]
  },
  {
   "cell_type": "markdown",
   "id": "9c332194-bf6e-42e6-b27c-df94437e31a1",
   "metadata": {},
   "source": [
    "## Computing histogram animation"
   ]
  },
  {
   "cell_type": "code",
   "execution_count": 4,
   "id": "99ac5912-cdc5-4afd-8024-fe3be968c70e",
   "metadata": {},
   "outputs": [],
   "source": [
    "import numpy as np\n",
    "import matplotlib.pyplot as plt\n",
    "from matplotlib.animation import FuncAnimation\n",
    "from functools import partial\n",
    "\n",
    "fig, ax = plt.subplots()\n",
    "bins = az.stats.density_utils.get_bins(x)\n",
    "patches = [p for p in ax.hist(x, bins=bins, histtype=\"bar\")[2]]\n",
    "rugs = [ax.plot([], [], \"|k\", markersize=10)[0] for _ in x]\n",
    "bin_edges, = ax.plot([], [], \"^b\", markersize=5)\n",
    "\n",
    "ax.legend(\n",
    "    handles=[patches[0], bin_edges, rugs[0]],\n",
    "    labels=[\"Histogram\", \"Bin edges\", \"Data\"]\n",
    ")\n",
    "\n",
    "def init():\n",
    "    ax.set_title('Histogram')\n",
    "    ax.spines.right.set_color('none')\n",
    "    ax.spines.bottom.set_position('zero')\n",
    "    ax.spines.top.set_color('none')\n",
    "    ax.xaxis.set_ticks_position('bottom')\n",
    "    ax.set_ylim(-1.8, 12.5);\n",
    "    for p in patches:\n",
    "            p.set_height(0)\n",
    "    bin_edges.set_data([], [])\n",
    "    for r in rugs:\n",
    "        r.set_data([], [])\n",
    "    return tuple([bin_edges, *patches, *rugs])\n",
    "\n",
    "def update(frame, samples):\n",
    "    step, idx = frame\n",
    "    if step == \"rug\":\n",
    "        for rug, sample in zip(rugs, samples):\n",
    "            rug.set_data([sample], [-1])\n",
    "            rug.set_color(\"black\")\n",
    "    elif step == \"edges\":\n",
    "        bin_edges.set_data(bins, np.zeros_like(bins))\n",
    "    elif step == \"counting\":\n",
    "        rugs[idx].set(color=\"red\", markersize=30)\n",
    "        if idx > 0:\n",
    "            rugs[idx-1].set(color=\"lightgray\", markersize=10)\n",
    "        bin = int((samples[idx] - bins[0]) // (bins[1] - bins[0]))\n",
    "        patches[bin].set_height(patches[bin].get_height() + 1)\n",
    "    elif step == \"cleanup\":\n",
    "        rugs[-1].set(color=\"lightgray\", markersize=10)\n",
    "    return tuple([bin_edges, *patches, *rugs])\n",
    "\n",
    "frames = [\n",
    "    *[(\"wait\", None)]*2,\n",
    "    (\"rug\", None),\n",
    "    *[(\"wait\", None)]*4,\n",
    "    (\"edges\", None),\n",
    "    *[(\"wait\", None)]*4,\n",
    "    *[(\"counting\", i) for i in range(len(x))],\n",
    "    (\"cleanup\", None),\n",
    "]\n",
    "\n",
    "ani = FuncAnimation(\n",
    "    fig, partial(update, samples=x),\n",
    "    frames=frames,\n",
    "    init_func=init,\n",
    "    blit=True,\n",
    "    interval=300,\n",
    "    repeat_delay=2000,\n",
    ")\n",
    "\n",
    "ani.save(\"histogram.mp4\", dpi=300)\n",
    "\n",
    "plt.show()"
   ]
  },
  {
   "cell_type": "markdown",
   "id": "6499deed-16cf-4fdb-8f3d-26842c667423",
   "metadata": {},
   "source": [
    "## Histogram info diagram"
   ]
  },
  {
   "cell_type": "code",
   "execution_count": null,
   "id": "a277d4a2-6fb4-47c1-a87a-166eca6c04d6",
   "metadata": {},
   "outputs": [],
   "source": []
  }
 ],
 "metadata": {
  "kernelspec": {
   "display_name": "Python 3 (ipykernel)",
   "language": "python",
   "name": "python3"
  },
  "language_info": {
   "codemirror_mode": {
    "name": "ipython",
    "version": 3
   },
   "file_extension": ".py",
   "mimetype": "text/x-python",
   "name": "python",
   "nbconvert_exporter": "python",
   "pygments_lexer": "ipython3",
   "version": "3.10.11"
  }
 },
 "nbformat": 4,
 "nbformat_minor": 5
}
