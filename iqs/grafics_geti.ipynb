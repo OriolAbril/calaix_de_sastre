{
 "cells": [
  {
   "cell_type": "code",
   "execution_count": 1,
   "id": "e040348d-7e20-4790-9981-d782360070f9",
   "metadata": {},
   "outputs": [
    {
     "name": "stderr",
     "output_type": "stream",
     "text": [
      "Warning: Ignoring XDG_SESSION_TYPE=wayland on Gnome. Use QT_QPA_PLATFORM=wayland to run on Wayland anyway.\n"
     ]
    }
   ],
   "source": [
    "%matplotlib Qt5"
   ]
  },
  {
   "cell_type": "code",
   "execution_count": 2,
   "id": "74534779-c79e-46cc-94b4-bc9b6d05c231",
   "metadata": {},
   "outputs": [],
   "source": [
    "import numpy as np\n",
    "from numpy import ma\n",
    "import matplotlib.pyplot as plt"
   ]
  },
  {
   "cell_type": "code",
   "execution_count": 3,
   "id": "1793adcd-43c6-42aa-9072-cca503a12e96",
   "metadata": {},
   "outputs": [],
   "source": [
    "def f(x, y):\n",
    "    return x/y"
   ]
  },
  {
   "cell_type": "code",
   "execution_count": 4,
   "id": "e486846d-7872-49c5-ae69-3e58e8c5643b",
   "metadata": {},
   "outputs": [],
   "source": [
    "fig, ax = plt.subplots(subplot_kw={\"projection\": \"3d\"})\n",
    "x_grid = np.linspace(-3, 3, 400)\n",
    "y_grid = np.linspace(1e-3, 3, 200)\n",
    "\n",
    "x, y = np.meshgrid(x_grid, y_grid)\n",
    "z = np.clip(f(x, y), -200, 200)\n",
    "ax.plot_surface(x, y, z)\n",
    "\n",
    "x, y = np.meshgrid(x_grid, -y_grid)\n",
    "z = np.clip(f(x, y), -200, 200)\n",
    "ax.plot_surface(x, y, z);\n",
    "ax.set(xlabel=\"x\", ylabel=\"y\", zlabel=\"f(x, y)\");"
   ]
  },
  {
   "cell_type": "code",
   "execution_count": 5,
   "id": "dc49c9ea-2cb3-490d-ac2d-1f938a26d9e7",
   "metadata": {},
   "outputs": [],
   "source": [
    "def g(x, y):\n",
    "    return (x+y)/(x*y)"
   ]
  },
  {
   "cell_type": "code",
   "execution_count": 6,
   "id": "93fcace2-d8c8-4ed6-8a5d-a4c04d997185",
   "metadata": {},
   "outputs": [],
   "source": [
    "fig, ax = plt.subplots(subplot_kw={\"projection\": \"3d\"})\n",
    "grid = np.linspace(1e-3, 2, 200)\n",
    "\n",
    "x, y = np.meshgrid(grid, grid)\n",
    "z = np.clip(g(x, y), -200, 200)\n",
    "ax.plot_surface(x, y, z);\n",
    "\n",
    "x, y = np.meshgrid(grid, -grid)\n",
    "z = np.clip(g(x, y), -200, 200)\n",
    "ax.plot_surface(x, y, z);\n",
    "\n",
    "x, y = np.meshgrid(-grid, grid)\n",
    "z = np.clip(g(x, y), -200, 200)\n",
    "ax.plot_surface(x, y, z);\n",
    "\n",
    "x, y = np.meshgrid(-grid, -grid)\n",
    "z = np.clip(g(x, y), -200, 200)\n",
    "ax.plot_surface(x, y, z);\n",
    "ax.set(xlabel=\"x\", ylabel=\"y\", zlabel=\"g(x, y)\");"
   ]
  },
  {
   "cell_type": "code",
   "execution_count": null,
   "id": "599021fb-1edd-49e2-8169-2896353feeec",
   "metadata": {},
   "outputs": [],
   "source": []
  },
  {
   "cell_type": "code",
   "execution_count": null,
   "id": "68e5c50f-d792-4754-9ebf-6ed55a97f140",
   "metadata": {},
   "outputs": [],
   "source": []
  },
  {
   "cell_type": "code",
   "execution_count": null,
   "id": "b52a0e82-1871-43cd-8795-463ba229e0bc",
   "metadata": {},
   "outputs": [],
   "source": []
  },
  {
   "cell_type": "code",
   "execution_count": null,
   "id": "fd556544-5e73-4631-b97c-a59de19f1384",
   "metadata": {},
   "outputs": [],
   "source": []
  },
  {
   "cell_type": "code",
   "execution_count": null,
   "id": "946d894f-b669-4b09-9973-24d98441ab9c",
   "metadata": {},
   "outputs": [],
   "source": []
  },
  {
   "cell_type": "code",
   "execution_count": null,
   "id": "95786649-6d3e-4284-a72d-3477f4768790",
   "metadata": {},
   "outputs": [],
   "source": []
  },
  {
   "cell_type": "code",
   "execution_count": null,
   "id": "dce52a04-cb8a-451a-ab7a-827b3ef5923f",
   "metadata": {},
   "outputs": [],
   "source": []
  },
  {
   "cell_type": "markdown",
   "id": "63d588e8-f3c1-4a97-8c69-29d7303aaa05",
   "metadata": {},
   "source": [
    "Ejercicio 1, apartado h"
   ]
  },
  {
   "cell_type": "code",
   "execution_count": 25,
   "id": "90e67a3e-2e8b-42bf-9422-d484ea651b19",
   "metadata": {},
   "outputs": [],
   "source": [
    "def f(x, y):\n",
    "    return x * y / (x - y)"
   ]
  },
  {
   "cell_type": "code",
   "execution_count": 26,
   "id": "b4482649-62e5-41d7-afa7-34c5087530e9",
   "metadata": {},
   "outputs": [],
   "source": [
    "fig, ax = plt.subplots(subplot_kw={\"projection\": \"3d\"})\n",
    "grid = np.linspace(-3, 3, 500)\n",
    "\n",
    "x, y = np.meshgrid(grid, grid + 1e-2)\n",
    "x, y = ma.masked_array(x, mask=x<y), ma.masked_array(y, mask=x<y)\n",
    "z = np.clip(f(x, y), -60, 60)\n",
    "ax.plot_surface(x, y, z)\n",
    "\n",
    "x, y = np.meshgrid(grid, grid - 1e-2)\n",
    "x, y = ma.masked_array(x, mask=x>y), ma.masked_array(y, mask=x>y)\n",
    "z = np.clip(f(x, y), -60, 60)\n",
    "ax.plot_surface(x, y, z)\n",
    "ax.set(xlabel=\"x\", ylabel=\"y\", zlabel=\"f(x, y)\");"
   ]
  },
  {
   "cell_type": "markdown",
   "id": "56a0a69a-9c0e-4895-9abb-d25dcd97b0c7",
   "metadata": {},
   "source": [
    "Ejercio 1, apartado i"
   ]
  },
  {
   "cell_type": "code",
   "execution_count": 27,
   "id": "3eaeb898-73f1-49db-8114-df37564f0256",
   "metadata": {},
   "outputs": [],
   "source": [
    "def f(x, y):\n",
    "    return np.exp(x / y)"
   ]
  },
  {
   "cell_type": "code",
   "execution_count": 28,
   "id": "1d178904-feda-4ffa-b0db-14c60b8d2926",
   "metadata": {},
   "outputs": [
    {
     "name": "stderr",
     "output_type": "stream",
     "text": [
      "/tmp/ipykernel_171857/2198644871.py:2: RuntimeWarning: overflow encountered in exp\n",
      "  return np.exp(x / y)\n"
     ]
    }
   ],
   "source": [
    "fig, ax = plt.subplots(subplot_kw={\"projection\": \"3d\"})\n",
    "x_grid = np.linspace(-3, 3, 400)\n",
    "y_grid = np.linspace(1e-3, 3, 200)\n",
    "\n",
    "x, y = np.meshgrid(x_grid, y_grid)\n",
    "z = np.clip(f(x, y), -200, 200)\n",
    "ax.plot_surface(x, y, z)\n",
    "\n",
    "x, y = np.meshgrid(x_grid, -y_grid)\n",
    "z = np.clip(f(x, y), -200, 200)\n",
    "ax.plot_surface(x, y, z);\n",
    "ax.set(xlabel=\"x\", ylabel=\"y\", zlabel=\"f(x, y)\");"
   ]
  },
  {
   "cell_type": "markdown",
   "id": "7a0d5d2d-b18b-4209-bd82-43360ec13a28",
   "metadata": {},
   "source": [
    "Ejercicio 1, apartado j"
   ]
  },
  {
   "cell_type": "code",
   "execution_count": 29,
   "id": "aaf3fed0-8bef-4f15-8464-f7a0f6c6bdf4",
   "metadata": {},
   "outputs": [],
   "source": [
    "def f(x, y):\n",
    "    return x**2 + y**2"
   ]
  },
  {
   "cell_type": "code",
   "execution_count": 30,
   "id": "97d5a44d-a6be-4698-88a5-39f848d4f886",
   "metadata": {},
   "outputs": [],
   "source": [
    "fig, ax = plt.subplots(subplot_kw={\"projection\": \"3d\"})\n",
    "grid = np.linspace(-3, 3, 200)\n",
    "\n",
    "x, y = np.meshgrid(grid, grid)\n",
    "z = f(x, y)\n",
    "ax.plot_surface(x, y, z);\n",
    "ax.set(xlabel=\"x\", ylabel=\"y\", zlabel=\"f(x, y)\");"
   ]
  },
  {
   "cell_type": "markdown",
   "id": "53e8f07c-c088-453c-8836-20f058985b82",
   "metadata": {},
   "source": [
    "Ejercicio 1, apartado k"
   ]
  },
  {
   "cell_type": "code",
   "execution_count": 31,
   "id": "fb313945-bfa1-4d22-9490-e7a67303a1b2",
   "metadata": {},
   "outputs": [],
   "source": [
    "def f(x, y):\n",
    "    return 1 / (x*y)"
   ]
  },
  {
   "cell_type": "code",
   "execution_count": 32,
   "id": "cc38bc18-62ff-427e-b733-12fd3224c90a",
   "metadata": {},
   "outputs": [],
   "source": [
    "fig, ax = plt.subplots(subplot_kw={\"projection\": \"3d\"})\n",
    "grid = np.linspace(1e-3, 2, 200)\n",
    "\n",
    "x, y = np.meshgrid(grid, grid)\n",
    "z = np.clip(f(x, y), -200, 200)\n",
    "ax.plot_surface(x, y, z);\n",
    "\n",
    "x, y = np.meshgrid(grid, -grid)\n",
    "z = np.clip(f(x, y), -200, 200)\n",
    "ax.plot_surface(x, y, z);\n",
    "\n",
    "x, y = np.meshgrid(-grid, grid)\n",
    "z = np.clip(f(x, y), -200, 200)\n",
    "ax.plot_surface(x, y, z);\n",
    "\n",
    "x, y = np.meshgrid(-grid, -grid)\n",
    "z = np.clip(f(x, y), -200, 200)\n",
    "ax.plot_surface(x, y, z);\n",
    "ax.set(xlabel=\"x\", ylabel=\"y\", zlabel=\"f(x, y)\");"
   ]
  },
  {
   "cell_type": "markdown",
   "id": "5a898939-9a6e-4267-8fa1-61fe38236f98",
   "metadata": {},
   "source": [
    "Ejercicio 1, apartado l"
   ]
  },
  {
   "cell_type": "code",
   "execution_count": 33,
   "id": "16248628-2d04-4502-810e-37fc8171d97b",
   "metadata": {},
   "outputs": [],
   "source": [
    "def f(x, y):\n",
    "    return x * np.sqrt(y)"
   ]
  },
  {
   "cell_type": "code",
   "execution_count": 34,
   "id": "da51ee9e-97af-43e9-8018-24294948a16d",
   "metadata": {},
   "outputs": [],
   "source": [
    "fig, ax = plt.subplots(subplot_kw={\"projection\": \"3d\"})\n",
    "fig, ax = plt.subplots(subplot_kw={\"projection\": \"3d\"})\n",
    "x_grid = np.linspace(-3, 3, 400)\n",
    "y_grid = np.linspace(1e-3, 3, 200)\n",
    "\n",
    "x, y = np.meshgrid(x_grid, y_grid)\n",
    "z = f(x, y)\n",
    "ax.plot_surface(x, y, z);\n",
    "ax.set(xlabel=\"x\", ylabel=\"y\", zlabel=\"f(x, y)\");"
   ]
  }
 ],
 "metadata": {
  "kernelspec": {
   "display_name": "Python 3 (ipykernel)",
   "language": "python",
   "name": "python3"
  },
  "language_info": {
   "codemirror_mode": {
    "name": "ipython",
    "version": 3
   },
   "file_extension": ".py",
   "mimetype": "text/x-python",
   "name": "python",
   "nbconvert_exporter": "python",
   "pygments_lexer": "ipython3",
   "version": "3.10.11"
  }
 },
 "nbformat": 4,
 "nbformat_minor": 5
}
