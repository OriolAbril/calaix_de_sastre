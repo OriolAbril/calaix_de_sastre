{
 "cells": [
  {
   "cell_type": "code",
   "execution_count": 1,
   "metadata": {},
   "outputs": [],
   "source": [
    "import pystan \n",
    "import arviz as az\n",
    "import numpy as np\n",
    "from scipy.integrate import solve_ivp\n",
    "import matplotlib.pyplot as plt\n",
    "rng = np.random.default_rng()"
   ]
  },
  {
   "cell_type": "code",
   "execution_count": 2,
   "metadata": {},
   "outputs": [],
   "source": [
    "I0 = 0.02    # initial fraction infected\n",
    "S0 = 1 - I0 # initial fraction susceptible\n",
    "R0 = 0\n",
    "y0 = np.array([S0, I0, R0])\n",
    "\n",
    "# Assign transmission and pathogen-induced death rates:\n",
    "beta = 0.25\n",
    "gamma = 0.04\n",
    "args = (beta, gamma)\n",
    "\n",
    "# Create a time series over which to integrate.\n",
    "# Here we have an epidemic that is observed over t_max number of days\n",
    "t_min = 0\n",
    "t_max = 100\n",
    "t_eval = np.linspace(t_min, t_max, t_max) + 1 # one observation per day"
   ]
  },
  {
   "cell_type": "code",
   "execution_count": 3,
   "metadata": {},
   "outputs": [],
   "source": [
    "def sir(t, y, beta, gamma):\n",
    "    S, I, R = y\n",
    "    dS = - beta * S * I\n",
    "    dI = beta * S * I - gamma * I\n",
    "    dR = gamma * I\n",
    "    return np.array([dS, dI, dR])"
   ]
  },
  {
   "cell_type": "code",
   "execution_count": 4,
   "metadata": {},
   "outputs": [],
   "source": [
    "# Run the integration:\n",
    "out = solve_ivp(sir, (t_min, t_max+1), y0, t_eval=t_eval, args=args)"
   ]
  },
  {
   "cell_type": "code",
   "execution_count": 5,
   "metadata": {},
   "outputs": [],
   "source": [
    "sample_n = 200 # number of host individuals sampled per day\n",
    "\n",
    "# Generate binomially distributed data.\n",
    "# So, on each day we sample a given number of people (sample_n), and measure how many are infected.\n",
    "# We expect binomially distributed error in this estimate, hence the random number generation.\n",
    "sample_y = rng.binomial(sample_n, out.y[1,:])"
   ]
  },
  {
   "cell_type": "code",
   "execution_count": 6,
   "metadata": {},
   "outputs": [
    {
     "data": {
      "text/plain": [
       "<matplotlib.legend.Legend at 0x7f8c3868e128>"
      ]
     },
     "execution_count": 6,
     "metadata": {},
     "output_type": "execute_result"
    },
    {
     "data": {
      "image/png": "[encoded data removed]",
      "text/plain": [
       "<Figure size 432x288 with 1 Axes>"
      ]
     },
     "metadata": {
      "needs_background": "light"
     },
     "output_type": "display_data"
    }
   ],
   "source": [
    "plt.plot(out.t, out.y[0,:], label=\"S\")\n",
    "plt.plot(out.t, out.y[1,:], label=\"I\")\n",
    "plt.plot(out.t, sample_y/sample_n, label=\"Observed I\")\n",
    "plt.legend()"
   ]
  },
  {
   "cell_type": "code",
   "execution_count": 7,
   "metadata": {},
   "outputs": [],
   "source": [
    "sir_model = \"\"\"\n",
    "functions {\n",
    "  \n",
    "  real[] SI(real t, real[] y, real[] params, real[] x_r, int[] x_i) {\n",
    "      \n",
    "      real dydt[3];\n",
    "      \n",
    "      dydt[1] = - params[1] * y[1] * y[2];\n",
    "      dydt[2] = params[1] * y[1] * y[2] - params[2] * y[2];\n",
    "      dydt[3] = params[2] * y[2];\n",
    "      \n",
    "      return dydt;\n",
    "    }\n",
    "  \n",
    "}\n",
    "\n",
    "data {\n",
    "  int<lower = 1> n_obs; // Number of days sampled\n",
    "  int<lower = 1> n_params; // Number of model parameters\n",
    "  int<lower = 1> n_difeq; // Number of differential equations in the system\n",
    "  int<lower = 1> n_sample; // Number of hosts sampled at each time point.\n",
    "  \n",
    "  int y[n_obs]; // The binomially distributed data\n",
    "  real t0; // Initial time point (zero)\n",
    "  real ts[n_obs]; // Time points that were sampled\n",
    "  \n",
    "  //data not included in fit\n",
    "  int<lower = 0> n_obs_ex;\n",
    "  int y_ex[n_obs_ex];\n",
    "  real ts_ex[n_obs_ex];\n",
    "\n",
    "}\n",
    "\n",
    "transformed data {\n",
    "  real x_r[0];\n",
    "  int x_i[0];\n",
    "}\n",
    "\n",
    "parameters {\n",
    "  real<lower = 0> params[n_params]; // Model parameters\n",
    "  real<lower = 0, upper = 1> S0; // Initial fraction of hosts susceptible\n",
    "}\n",
    "\n",
    "transformed parameters{\n",
    "  real y_hat[n_obs, n_difeq]; // Output from the ODE solver\n",
    "  real y0[n_difeq]; // Initial conditions for both S and I\n",
    "\n",
    "  y0[1] = S0;\n",
    "  y0[2] = 1 - S0;\n",
    "  y0[3] = 0;\n",
    "  \n",
    "  y_hat = integrate_ode_rk45(SI, y0, t0, ts, params, x_r, x_i);\n",
    "  \n",
    "}\n",
    "\n",
    "model {\n",
    "  params ~ normal(0, 2); //constrained to be positive\n",
    "  S0 ~ normal(0.5, 0.5); //constrained to be 0-1.\n",
    "  \n",
    "  for (i in 1:n_obs) {\n",
    "      if (y_hat[i, 2] < 0) \n",
    "          target += binomial_lpmf(y[i]| n_sample, 0);\n",
    "      else\n",
    "          target += binomial_lpmf(y[i]| n_sample, y_hat[i, 2]);     \n",
    "  }\n",
    "  \n",
    "}\n",
    "\n",
    "generated quantities {\n",
    "  // Generate predicted data over the whole time series:\n",
    "  real lik[n_obs];\n",
    "  real y_ex_hat[n_obs_ex, n_difeq];\n",
    "  real lik_ex[n_obs_ex];\n",
    "  \n",
    "  \n",
    "  for (i in 1:n_obs) {\n",
    "      if (y_hat[i, 2] < 0) \n",
    "          lik[i] = binomial_lpmf(y[i]| n_sample, 0);\n",
    "      else\n",
    "          lik[i] = binomial_lpmf(y[i]| n_sample, y_hat[i, 2]);\n",
    "  }\n",
    "  if (n_obs_ex > 0) {\n",
    "      y_ex_hat = integrate_ode_rk45(SI, y0, t0, ts_ex, params, x_r, x_i);\n",
    "      for (j in 1:n_obs_ex) {\n",
    "          if (y_ex_hat[j, 2] < 0) \n",
    "              lik_ex[j] = binomial_lpmf(y_ex[j]| n_sample, 0);\n",
    "          else\n",
    "              lik_ex[j] = binomial_lpmf(y_ex[j]| n_sample, y_ex_hat[j, 2]);\n",
    "      }\n",
    "  }\n",
    "\n",
    "}\n",
    "\"\"\""
   ]
  },
  {
   "cell_type": "code",
   "execution_count": 8,
   "metadata": {},
   "outputs": [
    {
     "name": "stderr",
     "output_type": "stream",
     "text": [
      "INFO:pystan:COMPILING THE C++ CODE FOR MODEL anon_model_c1dc9ab1a5d27e9f02188db722d212d8 NOW.\n"
     ]
    }
   ],
   "source": [
    "stan_model = pystan.StanModel(model_code=sir_model)"
   ]
  },
  {
   "cell_type": "code",
   "execution_count": 9,
   "metadata": {},
   "outputs": [],
   "source": [
    "def split_data_dict(n_obs, t_max=t_max, t_eval=t_eval, sample_y=sample_y):\n",
    "    # split between \"known\" data and data to predict\n",
    "    #n_obs = 30\n",
    "    n_obs_ex = t_max - n_obs\n",
    "    ts = t_eval[:n_obs]\n",
    "    ts_ex = t_eval[n_obs:]\n",
    "    y = sample_y[:n_obs]\n",
    "    y_ex = sample_y[n_obs:]\n",
    "\n",
    "    # define dict with data\n",
    "    stan_data = dict(\n",
    "        n_obs = n_obs,\n",
    "        n_params = len(args),\n",
    "        n_difeq = len(y0),\n",
    "        n_sample = sample_n,\n",
    "        y = y,\n",
    "        t0 = 0,\n",
    "        ts = ts,\n",
    "        # data not taken into account for fit\n",
    "        n_obs_ex = n_obs_ex,\n",
    "        y_ex = y_ex,\n",
    "        ts_ex = ts_ex,\n",
    "    )\n",
    "    return stan_data\n",
    "stan_data = split_data_dict(100)"
   ]
  },
  {
   "cell_type": "code",
   "execution_count": 10,
   "metadata": {},
   "outputs": [
    {
     "name": "stderr",
     "output_type": "stream",
     "text": [
      "WARNING:pystan:n_eff / iter below 0.001 indicates that the effective sample size has likely been overestimated\n",
      "WARNING:pystan:Rhat above 1.1 or below 0.9 indicates that the chains very likely have not mixed\n"
     ]
    }
   ],
   "source": [
    "sample_kwargs = {\"iter\": 1000, \"chains\": 4, \"control\": {\"adapt_delta\": 0.95}}\n",
    "fit = stan_model.sampling(data=stan_data, **sample_kwargs)"
   ]
  },
  {
   "cell_type": "code",
   "execution_count": 11,
   "metadata": {},
   "outputs": [],
   "source": [
    "dims = {\n",
    "    \"params\": [\"param\"], \n",
    "    \"y_postpred\": [\"day\"], \n",
    "    \"lik\": [\"day\"], \n",
    "    \"y_hat\": [\"day\", \"group\"], \n",
    "    \"y\": [\"day\"],\n",
    "    \"y0\": [\"group\"],\n",
    "    \"ts\": [\"day\"],\n",
    "    \"y_ex\": [\"day_ex\"],\n",
    "    \"ts_ex\": [\"day_ex\"],\n",
    "}\n",
    "coords = {\n",
    "    \"param\": [\"beta\", \"gamma\"], \n",
    "    \"group\": [\"S\", \"I\", \"R\"],\n",
    "}\n",
    "idata_kwargs = {\n",
    "    \"observed_data\": [\"y\", \"y_ex\"],\n",
    "    \"constant_data\": [\"ts\", \"ts_ex\"],\n",
    "    \"log_likelihood\": {\"y\": \"lik\", \"y_ex\": \"lik_ex\"},\n",
    "    \"dims\": dims,\n",
    "    \"coords\": coords,\n",
    "}\n",
    "idata = az.from_pystan(posterior=fit, **idata_kwargs)"
   ]
  },
  {
   "cell_type": "code",
   "execution_count": 12,
   "metadata": {},
   "outputs": [
    {
     "data": {
      "text/html": [
       "<div>\n",
       "<style scoped>\n",
       "    .dataframe tbody tr th:only-of-type {\n",
       "        vertical-align: middle;\n",
       "    }\n",
       "\n",
       "    .dataframe tbody tr th {\n",
       "        vertical-align: top;\n",
       "    }\n",
       "\n",
       "    .dataframe thead th {\n",
       "        text-align: right;\n",
       "    }\n",
       "</style>\n",
       "<table border=\"1\" class=\"dataframe\">\n",
       "  <thead>\n",
       "    <tr style=\"text-align: right;\">\n",
       "      <th></th>\n",
       "      <th>mean</th>\n",
       "      <th>sd</th>\n",
       "      <th>hdi_3%</th>\n",
       "      <th>hdi_97%</th>\n",
       "      <th>mcse_mean</th>\n",
       "      <th>mcse_sd</th>\n",
       "      <th>ess_mean</th>\n",
       "      <th>ess_sd</th>\n",
       "      <th>ess_bulk</th>\n",
       "      <th>ess_tail</th>\n",
       "      <th>r_hat</th>\n",
       "    </tr>\n",
       "  </thead>\n",
       "  <tbody>\n",
       "    <tr>\n",
       "      <th>params[0]</th>\n",
       "      <td>0.242</td>\n",
       "      <td>0.006</td>\n",
       "      <td>0.232</td>\n",
       "      <td>0.254</td>\n",
       "      <td>0.0</td>\n",
       "      <td>0.0</td>\n",
       "      <td>847.0</td>\n",
       "      <td>846.0</td>\n",
       "      <td>843.0</td>\n",
       "      <td>919.0</td>\n",
       "      <td>1.00</td>\n",
       "    </tr>\n",
       "    <tr>\n",
       "      <th>params[1]</th>\n",
       "      <td>0.040</td>\n",
       "      <td>0.001</td>\n",
       "      <td>0.039</td>\n",
       "      <td>0.041</td>\n",
       "      <td>0.0</td>\n",
       "      <td>0.0</td>\n",
       "      <td>1076.0</td>\n",
       "      <td>1075.0</td>\n",
       "      <td>1074.0</td>\n",
       "      <td>939.0</td>\n",
       "      <td>1.01</td>\n",
       "    </tr>\n",
       "    <tr>\n",
       "      <th>S0</th>\n",
       "      <td>0.978</td>\n",
       "      <td>0.002</td>\n",
       "      <td>0.974</td>\n",
       "      <td>0.982</td>\n",
       "      <td>0.0</td>\n",
       "      <td>0.0</td>\n",
       "      <td>896.0</td>\n",
       "      <td>896.0</td>\n",
       "      <td>893.0</td>\n",
       "      <td>854.0</td>\n",
       "      <td>1.00</td>\n",
       "    </tr>\n",
       "  </tbody>\n",
       "</table>\n",
       "</div>"
      ],
      "text/plain": [
       "            mean     sd  hdi_3%  hdi_97%  mcse_mean  mcse_sd  ess_mean  \\\n",
       "params[0]  0.242  0.006   0.232    0.254        0.0      0.0     847.0   \n",
       "params[1]  0.040  0.001   0.039    0.041        0.0      0.0    1076.0   \n",
       "S0         0.978  0.002   0.974    0.982        0.0      0.0     896.0   \n",
       "\n",
       "           ess_sd  ess_bulk  ess_tail  r_hat  \n",
       "params[0]   846.0     843.0     919.0   1.00  \n",
       "params[1]  1075.0    1074.0     939.0   1.01  \n",
       "S0          896.0     893.0     854.0   1.00  "
      ]
     },
     "execution_count": 12,
     "metadata": {},
     "output_type": "execute_result"
    }
   ],
   "source": [
    "az.summary(idata, var_names=\"~^y\", filter_vars=\"regex\")"
   ]
  },
  {
   "cell_type": "code",
   "execution_count": 13,
   "metadata": {},
   "outputs": [
    {
     "data": {
      "image/png": "[encoded data removed]",
      "text/plain": [
       "<Figure size 1490.4x331.2 with 3 Axes>"
      ]
     },
     "metadata": {
      "needs_background": "light"
     },
     "output_type": "display_data"
    }
   ],
   "source": [
    "az.plot_posterior(idata, var_names=\"~^y\", filter_vars=\"regex\");"
   ]
  },
  {
   "cell_type": "code",
   "execution_count": 14,
   "metadata": {},
   "outputs": [
    {
     "data": {
      "text/plain": [
       "Computed from 2000 by 100 log-likelihood matrix\n",
       "\n",
       "         Estimate       SE\n",
       "elpd_loo  -303.27     6.77\n",
       "p_loo        3.17        -\n",
       "------\n",
       "\n",
       "Pareto k diagnostic values:\n",
       "                         Count   Pct.\n",
       "(-Inf, 0.5]   (good)      100  100.0%\n",
       " (0.5, 0.7]   (ok)          0    0.0%\n",
       "   (0.7, 1]   (bad)         0    0.0%\n",
       "   (1, Inf)   (very bad)    0    0.0%\n",
       "\n",
       "\n",
       "The scale is now log by default. Use 'scale' argument or 'stats.ic_scale' rcParam if\n",
       "you rely on a specific value.\n",
       "A higher log-score (or a lower deviance) indicates a model with better predictive\n",
       "accuracy."
      ]
     },
     "execution_count": 14,
     "metadata": {},
     "output_type": "execute_result"
    }
   ],
   "source": [
    "loo = az.loo(idata, var_name=\"y\", pointwise=True)\n",
    "loo"
   ]
  },
  {
   "cell_type": "code",
   "execution_count": 16,
   "metadata": {},
   "outputs": [
    {
     "name": "stdout",
     "output_type": "stream",
     "text": [
      "elpd_loo   : -205.02338725676816\n",
      "elpd_loo_se: 5.289199775852263\n"
     ]
    }
   ],
   "source": [
    "elpd_loo = loo.loo_i.sel(day=np.arange(30, 99)).values\n",
    "print(f\"elpd_loo   : {elpd_loo.sum()}\\nelpd_loo_se: {(len(np.arange(30, 99))*np.var(elpd_loo))**.5}\")"
   ]
  },
  {
   "cell_type": "markdown",
   "metadata": {},
   "source": [
    "## Exact one step ahead cross validation\n",
    "Refit the model including from 30 to 99 observations."
   ]
  },
  {
   "cell_type": "code",
   "execution_count": 49,
   "metadata": {},
   "outputs": [],
   "source": [
    "from arviz.stats.stats_utils import logsumexp"
   ]
  },
  {
   "cell_type": "code",
   "execution_count": 53,
   "metadata": {
    "scrolled": true
   },
   "outputs": [
    {
     "name": "stderr",
     "output_type": "stream",
     "text": [
      "WARNING:pystan:n_eff / iter below 0.001 indicates that the effective sample size has likely been overestimated\n",
      "WARNING:pystan:Rhat above 1.1 or below 0.9 indicates that the chains very likely have not mixed\n",
      "WARNING:pystan:n_eff / iter below 0.001 indicates that the effective sample size has likely been overestimated\n",
      "WARNING:pystan:Rhat above 1.1 or below 0.9 indicates that the chains very likely have not mixed\n",
      "WARNING:pystan:n_eff / iter below 0.001 indicates that the effective sample size has likely been overestimated\n",
      "WARNING:pystan:Rhat above 1.1 or below 0.9 indicates that the chains very likely have not mixed\n",
      "WARNING:pystan:n_eff / iter below 0.001 indicates that the effective sample size has likely been overestimated\n",
      "WARNING:pystan:Rhat above 1.1 or below 0.9 indicates that the chains very likely have not mixed\n",
      "WARNING:pystan:n_eff / iter below 0.001 indicates that the effective sample size has likely been overestimated\n",
      "WARNING:pystan:Rhat above 1.1 or below 0.9 indicates that the chains very likely have not mixed\n",
      "WARNING:pystan:n_eff / iter below 0.001 indicates that the effective sample size has likely been overestimated\n",
      "WARNING:pystan:Rhat above 1.1 or below 0.9 indicates that the chains very likely have not mixed\n",
      "WARNING:pystan:n_eff / iter below 0.001 indicates that the effective sample size has likely been overestimated\n",
      "WARNING:pystan:Rhat above 1.1 or below 0.9 indicates that the chains very likely have not mixed\n",
      "WARNING:pystan:n_eff / iter below 0.001 indicates that the effective sample size has likely been overestimated\n",
      "WARNING:pystan:Rhat above 1.1 or below 0.9 indicates that the chains very likely have not mixed\n",
      "WARNING:pystan:n_eff / iter below 0.001 indicates that the effective sample size has likely been overestimated\n",
      "WARNING:pystan:Rhat above 1.1 or below 0.9 indicates that the chains very likely have not mixed\n",
      "WARNING:pystan:n_eff / iter below 0.001 indicates that the effective sample size has likely been overestimated\n",
      "WARNING:pystan:Rhat above 1.1 or below 0.9 indicates that the chains very likely have not mixed\n",
      "WARNING:pystan:n_eff / iter below 0.001 indicates that the effective sample size has likely been overestimated\n",
      "WARNING:pystan:Rhat above 1.1 or below 0.9 indicates that the chains very likely have not mixed\n",
      "WARNING:pystan:n_eff / iter below 0.001 indicates that the effective sample size has likely been overestimated\n",
      "WARNING:pystan:Rhat above 1.1 or below 0.9 indicates that the chains very likely have not mixed\n",
      "WARNING:pystan:n_eff / iter below 0.001 indicates that the effective sample size has likely been overestimated\n",
      "WARNING:pystan:Rhat above 1.1 or below 0.9 indicates that the chains very likely have not mixed\n",
      "WARNING:pystan:n_eff / iter below 0.001 indicates that the effective sample size has likely been overestimated\n",
      "WARNING:pystan:Rhat above 1.1 or below 0.9 indicates that the chains very likely have not mixed\n",
      "WARNING:pystan:n_eff / iter below 0.001 indicates that the effective sample size has likely been overestimated\n",
      "WARNING:pystan:Rhat above 1.1 or below 0.9 indicates that the chains very likely have not mixed\n",
      "WARNING:pystan:n_eff / iter below 0.001 indicates that the effective sample size has likely been overestimated\n",
      "WARNING:pystan:Rhat above 1.1 or below 0.9 indicates that the chains very likely have not mixed\n",
      "WARNING:pystan:n_eff / iter below 0.001 indicates that the effective sample size has likely been overestimated\n",
      "WARNING:pystan:Rhat above 1.1 or below 0.9 indicates that the chains very likely have not mixed\n",
      "WARNING:pystan:n_eff / iter below 0.001 indicates that the effective sample size has likely been overestimated\n",
      "WARNING:pystan:Rhat above 1.1 or below 0.9 indicates that the chains very likely have not mixed\n",
      "WARNING:pystan:n_eff / iter below 0.001 indicates that the effective sample size has likely been overestimated\n",
      "WARNING:pystan:Rhat above 1.1 or below 0.9 indicates that the chains very likely have not mixed\n",
      "WARNING:pystan:n_eff / iter below 0.001 indicates that the effective sample size has likely been overestimated\n",
      "WARNING:pystan:Rhat above 1.1 or below 0.9 indicates that the chains very likely have not mixed\n",
      "WARNING:pystan:n_eff / iter below 0.001 indicates that the effective sample size has likely been overestimated\n",
      "WARNING:pystan:Rhat above 1.1 or below 0.9 indicates that the chains very likely have not mixed\n",
      "WARNING:pystan:n_eff / iter below 0.001 indicates that the effective sample size has likely been overestimated\n",
      "WARNING:pystan:Rhat above 1.1 or below 0.9 indicates that the chains very likely have not mixed\n",
      "WARNING:pystan:n_eff / iter below 0.001 indicates that the effective sample size has likely been overestimated\n",
      "WARNING:pystan:Rhat above 1.1 or below 0.9 indicates that the chains very likely have not mixed\n",
      "WARNING:pystan:n_eff / iter below 0.001 indicates that the effective sample size has likely been overestimated\n",
      "WARNING:pystan:Rhat above 1.1 or below 0.9 indicates that the chains very likely have not mixed\n",
      "WARNING:pystan:n_eff / iter below 0.001 indicates that the effective sample size has likely been overestimated\n",
      "WARNING:pystan:Rhat above 1.1 or below 0.9 indicates that the chains very likely have not mixed\n",
      "WARNING:pystan:n_eff / iter below 0.001 indicates that the effective sample size has likely been overestimated\n",
      "WARNING:pystan:Rhat above 1.1 or below 0.9 indicates that the chains very likely have not mixed\n",
      "WARNING:pystan:n_eff / iter below 0.001 indicates that the effective sample size has likely been overestimated\n",
      "WARNING:pystan:Rhat above 1.1 or below 0.9 indicates that the chains very likely have not mixed\n",
      "WARNING:pystan:n_eff / iter below 0.001 indicates that the effective sample size has likely been overestimated\n",
      "WARNING:pystan:Rhat above 1.1 or below 0.9 indicates that the chains very likely have not mixed\n",
      "WARNING:pystan:n_eff / iter below 0.001 indicates that the effective sample size has likely been overestimated\n",
      "WARNING:pystan:Rhat above 1.1 or below 0.9 indicates that the chains very likely have not mixed\n",
      "WARNING:pystan:n_eff / iter below 0.001 indicates that the effective sample size has likely been overestimated\n",
      "WARNING:pystan:Rhat above 1.1 or below 0.9 indicates that the chains very likely have not mixed\n",
      "WARNING:pystan:n_eff / iter below 0.001 indicates that the effective sample size has likely been overestimated\n",
      "WARNING:pystan:Rhat above 1.1 or below 0.9 indicates that the chains very likely have not mixed\n",
      "WARNING:pystan:n_eff / iter below 0.001 indicates that the effective sample size has likely been overestimated\n",
      "WARNING:pystan:Rhat above 1.1 or below 0.9 indicates that the chains very likely have not mixed\n",
      "WARNING:pystan:n_eff / iter below 0.001 indicates that the effective sample size has likely been overestimated\n",
      "WARNING:pystan:Rhat above 1.1 or below 0.9 indicates that the chains very likely have not mixed\n",
      "WARNING:pystan:n_eff / iter below 0.001 indicates that the effective sample size has likely been overestimated\n",
      "WARNING:pystan:Rhat above 1.1 or below 0.9 indicates that the chains very likely have not mixed\n",
      "WARNING:pystan:n_eff / iter below 0.001 indicates that the effective sample size has likely been overestimated\n",
      "WARNING:pystan:Rhat above 1.1 or below 0.9 indicates that the chains very likely have not mixed\n",
      "WARNING:pystan:n_eff / iter below 0.001 indicates that the effective sample size has likely been overestimated\n",
      "WARNING:pystan:Rhat above 1.1 or below 0.9 indicates that the chains very likely have not mixed\n",
      "WARNING:pystan:n_eff / iter below 0.001 indicates that the effective sample size has likely been overestimated\n",
      "WARNING:pystan:Rhat above 1.1 or below 0.9 indicates that the chains very likely have not mixed\n",
      "WARNING:pystan:n_eff / iter below 0.001 indicates that the effective sample size has likely been overestimated\n",
      "WARNING:pystan:Rhat above 1.1 or below 0.9 indicates that the chains very likely have not mixed\n",
      "WARNING:pystan:n_eff / iter below 0.001 indicates that the effective sample size has likely been overestimated\n",
      "WARNING:pystan:Rhat above 1.1 or below 0.9 indicates that the chains very likely have not mixed\n",
      "WARNING:pystan:n_eff / iter below 0.001 indicates that the effective sample size has likely been overestimated\n",
      "WARNING:pystan:Rhat above 1.1 or below 0.9 indicates that the chains very likely have not mixed\n"
     ]
    },
    {
     "name": "stderr",
     "output_type": "stream",
     "text": [
      "WARNING:pystan:n_eff / iter below 0.001 indicates that the effective sample size has likely been overestimated\n",
      "WARNING:pystan:Rhat above 1.1 or below 0.9 indicates that the chains very likely have not mixed\n",
      "WARNING:pystan:n_eff / iter below 0.001 indicates that the effective sample size has likely been overestimated\n",
      "WARNING:pystan:Rhat above 1.1 or below 0.9 indicates that the chains very likely have not mixed\n",
      "WARNING:pystan:n_eff / iter below 0.001 indicates that the effective sample size has likely been overestimated\n",
      "WARNING:pystan:Rhat above 1.1 or below 0.9 indicates that the chains very likely have not mixed\n",
      "WARNING:pystan:n_eff / iter below 0.001 indicates that the effective sample size has likely been overestimated\n",
      "WARNING:pystan:Rhat above 1.1 or below 0.9 indicates that the chains very likely have not mixed\n",
      "WARNING:pystan:n_eff / iter below 0.001 indicates that the effective sample size has likely been overestimated\n",
      "WARNING:pystan:Rhat above 1.1 or below 0.9 indicates that the chains very likely have not mixed\n",
      "WARNING:pystan:n_eff / iter below 0.001 indicates that the effective sample size has likely been overestimated\n",
      "WARNING:pystan:Rhat above 1.1 or below 0.9 indicates that the chains very likely have not mixed\n",
      "WARNING:pystan:n_eff / iter below 0.001 indicates that the effective sample size has likely been overestimated\n",
      "WARNING:pystan:Rhat above 1.1 or below 0.9 indicates that the chains very likely have not mixed\n",
      "WARNING:pystan:n_eff / iter below 0.001 indicates that the effective sample size has likely been overestimated\n",
      "WARNING:pystan:Rhat above 1.1 or below 0.9 indicates that the chains very likely have not mixed\n",
      "WARNING:pystan:n_eff / iter below 0.001 indicates that the effective sample size has likely been overestimated\n",
      "WARNING:pystan:Rhat above 1.1 or below 0.9 indicates that the chains very likely have not mixed\n",
      "WARNING:pystan:n_eff / iter below 0.001 indicates that the effective sample size has likely been overestimated\n",
      "WARNING:pystan:Rhat above 1.1 or below 0.9 indicates that the chains very likely have not mixed\n",
      "WARNING:pystan:n_eff / iter below 0.001 indicates that the effective sample size has likely been overestimated\n",
      "WARNING:pystan:Rhat above 1.1 or below 0.9 indicates that the chains very likely have not mixed\n",
      "WARNING:pystan:n_eff / iter below 0.001 indicates that the effective sample size has likely been overestimated\n",
      "WARNING:pystan:Rhat above 1.1 or below 0.9 indicates that the chains very likely have not mixed\n",
      "WARNING:pystan:n_eff / iter below 0.001 indicates that the effective sample size has likely been overestimated\n",
      "WARNING:pystan:Rhat above 1.1 or below 0.9 indicates that the chains very likely have not mixed\n",
      "WARNING:pystan:n_eff / iter below 0.001 indicates that the effective sample size has likely been overestimated\n",
      "WARNING:pystan:Rhat above 1.1 or below 0.9 indicates that the chains very likely have not mixed\n",
      "WARNING:pystan:n_eff / iter below 0.001 indicates that the effective sample size has likely been overestimated\n",
      "WARNING:pystan:Rhat above 1.1 or below 0.9 indicates that the chains very likely have not mixed\n",
      "WARNING:pystan:n_eff / iter below 0.001 indicates that the effective sample size has likely been overestimated\n",
      "WARNING:pystan:Rhat above 1.1 or below 0.9 indicates that the chains very likely have not mixed\n",
      "WARNING:pystan:n_eff / iter below 0.001 indicates that the effective sample size has likely been overestimated\n",
      "WARNING:pystan:Rhat above 1.1 or below 0.9 indicates that the chains very likely have not mixed\n",
      "WARNING:pystan:n_eff / iter below 0.001 indicates that the effective sample size has likely been overestimated\n",
      "WARNING:pystan:Rhat above 1.1 or below 0.9 indicates that the chains very likely have not mixed\n",
      "WARNING:pystan:n_eff / iter below 0.001 indicates that the effective sample size has likely been overestimated\n",
      "WARNING:pystan:Rhat above 1.1 or below 0.9 indicates that the chains very likely have not mixed\n",
      "WARNING:pystan:n_eff / iter below 0.001 indicates that the effective sample size has likely been overestimated\n",
      "WARNING:pystan:Rhat above 1.1 or below 0.9 indicates that the chains very likely have not mixed\n",
      "WARNING:pystan:n_eff / iter below 0.001 indicates that the effective sample size has likely been overestimated\n",
      "WARNING:pystan:Rhat above 1.1 or below 0.9 indicates that the chains very likely have not mixed\n",
      "WARNING:pystan:n_eff / iter below 0.001 indicates that the effective sample size has likely been overestimated\n",
      "WARNING:pystan:Rhat above 1.1 or below 0.9 indicates that the chains very likely have not mixed\n",
      "WARNING:pystan:n_eff / iter below 0.001 indicates that the effective sample size has likely been overestimated\n",
      "WARNING:pystan:Rhat above 1.1 or below 0.9 indicates that the chains very likely have not mixed\n",
      "WARNING:pystan:n_eff / iter below 0.001 indicates that the effective sample size has likely been overestimated\n",
      "WARNING:pystan:Rhat above 1.1 or below 0.9 indicates that the chains very likely have not mixed\n",
      "WARNING:pystan:n_eff / iter below 0.001 indicates that the effective sample size has likely been overestimated\n",
      "WARNING:pystan:Rhat above 1.1 or below 0.9 indicates that the chains very likely have not mixed\n",
      "WARNING:pystan:n_eff / iter below 0.001 indicates that the effective sample size has likely been overestimated\n",
      "WARNING:pystan:Rhat above 1.1 or below 0.9 indicates that the chains very likely have not mixed\n",
      "WARNING:pystan:n_eff / iter below 0.001 indicates that the effective sample size has likely been overestimated\n",
      "WARNING:pystan:Rhat above 1.1 or below 0.9 indicates that the chains very likely have not mixed\n",
      "WARNING:pystan:n_eff / iter below 0.001 indicates that the effective sample size has likely been overestimated\n",
      "WARNING:pystan:Rhat above 1.1 or below 0.9 indicates that the chains very likely have not mixed\n",
      "WARNING:pystan:n_eff / iter below 0.001 indicates that the effective sample size has likely been overestimated\n",
      "WARNING:pystan:Rhat above 1.1 or below 0.9 indicates that the chains very likely have not mixed\n"
     ]
    },
    {
     "data": {
      "text/plain": [
       "3.9747056571323434"
      ]
     },
     "execution_count": 53,
     "metadata": {},
     "output_type": "execute_result"
    }
   ],
   "source": [
    "splits = np.arange(30, 99)\n",
    "elpd_lfo = np.empty(len(splits))\n",
    "for idx, split_id in enumerate(splits):\n",
    "    stan_data = split_data_dict(split_id)\n",
    "    fit = stan_model.sampling(data=stan_data, **sample_kwargs)\n",
    "    idata = az.from_pystan(posterior=fit, **idata_kwargs)\n",
    "    elpd_lfo[idx] = np.exp(\n",
    "        idata.log_likelihood.y_ex.isel(day_ex=0).stack(sample=(\"chain\", \"draw\"))\n",
    "    ).mean().item()\n",
    "elpd_lfo.sum()"
   ]
  },
  {
   "cell_type": "code",
   "execution_count": 58,
   "metadata": {},
   "outputs": [
    {
     "name": "stdout",
     "output_type": "stream",
     "text": [
      "elpd_lfo   : -210.54626842098617\n",
      "elpd_lfo_se: 5.999860267422607\n"
     ]
    }
   ],
   "source": [
    "elpd_lfo = np.log(elpd_lfo)\n",
    "print(f\"elpd_lfo   : {elpd_lfo.sum()}\\nelpd_lfo_se: {(len(splits)*np.var(elpd_lfo))**.5}\")"
   ]
  },
  {
   "cell_type": "code",
   "execution_count": null,
   "metadata": {},
   "outputs": [],
   "source": []
  }
 ],
 "metadata": {
  "kernelspec": {
   "display_name": "Python 3",
   "language": "python",
   "name": "python3"
  },
  "language_info": {
   "codemirror_mode": {
    "name": "ipython",
    "version": 3
   },
   "file_extension": ".py",
   "mimetype": "text/x-python",
   "name": "python",
   "nbconvert_exporter": "python",
   "pygments_lexer": "ipython3",
   "version": "3.6.9"
  }
 },
 "nbformat": 4,
 "nbformat_minor": 2
}
