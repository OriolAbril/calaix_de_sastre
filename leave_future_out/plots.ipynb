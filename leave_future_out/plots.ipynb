{
 "cells": [
  {
   "cell_type": "code",
   "execution_count": 2,
   "metadata": {},
   "outputs": [],
   "source": [
    "import matplotlib.pyplot as plt\n",
    "import numpy as np"
   ]
  },
  {
   "cell_type": "code",
   "execution_count": 37,
   "metadata": {},
   "outputs": [
    {
     "data": {
      "image/png": "[encoded data removed]",
      "text/plain": [
       "<Figure size 432x576 with 1 Axes>"
      ]
     },
     "metadata": {
      "needs_background": "light"
     },
     "output_type": "display_data"
    }
   ],
   "source": [
    "x = np.array([1, 0,0,0,0,0]).reshape((1,-1)) * 2 + 4\n",
    "fig, ax = plt.subplots(figsize=(6,8))\n",
    "ax.imshow(x, cmap=\"Dark2\", vmax=7, vmin=0)\n",
    "for i in range(x.size):\n",
    "    ax.annotate(f\"{i}\", (i, 0), va=\"center\", ha=\"center\", fontsize=15)\n",
    "    if i == x.size -1:\n",
    "        break\n",
    "    ax.axvline(i+.5, color=\"k\", ls=\"-\", lw=2, zorder=3)\n",
    "ax.axis(\"off\");"
   ]
  },
  {
   "cell_type": "code",
   "execution_count": null,
   "metadata": {},
   "outputs": [],
   "source": []
  }
 ],
 "metadata": {
  "kernelspec": {
   "display_name": "Python 3",
   "language": "python",
   "name": "python3"
  },
  "language_info": {
   "codemirror_mode": {
    "name": "ipython",
    "version": 3
   },
   "file_extension": ".py",
   "mimetype": "text/x-python",
   "name": "python",
   "nbconvert_exporter": "python",
   "pygments_lexer": "ipython3",
   "version": "3.6.9"
  }
 },
 "nbformat": 4,
 "nbformat_minor": 2
}
